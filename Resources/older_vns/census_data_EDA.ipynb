{
 "cells": [
  {
   "cell_type": "code",
   "execution_count": 1,
   "id": "3379c97d",
   "metadata": {},
   "outputs": [],
   "source": [
    "# This notebook covers EDA (Exploratory Data Analysis) as recommended at site:\n",
    "# https://www.digitalocean.com/community/tutorials/exploratory-data-analysis-python\n",
    "\n",
    "# library dependencies\n",
    "\n",
    "import pandas as pd\n",
    "import numpy as np\n",
    "import seaborn as sns\n",
    "\n",
    "# import matplotlib.pyplot as plt"
   ]
  },
  {
   "cell_type": "code",
   "execution_count": 2,
   "id": "c656710a",
   "metadata": {},
   "outputs": [
    {
     "data": {
      "text/html": [
       "<div>\n",
       "<style scoped>\n",
       "    .dataframe tbody tr th:only-of-type {\n",
       "        vertical-align: middle;\n",
       "    }\n",
       "\n",
       "    .dataframe tbody tr th {\n",
       "        vertical-align: top;\n",
       "    }\n",
       "\n",
       "    .dataframe thead th {\n",
       "        text-align: right;\n",
       "    }\n",
       "</style>\n",
       "<table border=\"1\" class=\"dataframe\">\n",
       "  <thead>\n",
       "    <tr style=\"text-align: right;\">\n",
       "      <th></th>\n",
       "      <th>Unnamed: 0</th>\n",
       "      <th>age</th>\n",
       "      <th>workclass</th>\n",
       "      <th>fnlwgt</th>\n",
       "      <th>education</th>\n",
       "      <th>education_num</th>\n",
       "      <th>marital_status</th>\n",
       "      <th>occupation</th>\n",
       "      <th>relationship</th>\n",
       "      <th>race</th>\n",
       "      <th>sex</th>\n",
       "      <th>capital_gain</th>\n",
       "      <th>capital_loss</th>\n",
       "      <th>hours_per_week</th>\n",
       "      <th>native_country</th>\n",
       "      <th>income</th>\n",
       "    </tr>\n",
       "  </thead>\n",
       "  <tbody>\n",
       "    <tr>\n",
       "      <th>0</th>\n",
       "      <td>0</td>\n",
       "      <td>39</td>\n",
       "      <td>State-gov</td>\n",
       "      <td>77516</td>\n",
       "      <td>Bachelors</td>\n",
       "      <td>13</td>\n",
       "      <td>Never-married</td>\n",
       "      <td>Adm-clerical</td>\n",
       "      <td>Not-in-family</td>\n",
       "      <td>White</td>\n",
       "      <td>Male</td>\n",
       "      <td>2174</td>\n",
       "      <td>0</td>\n",
       "      <td>40</td>\n",
       "      <td>United-States</td>\n",
       "      <td>&lt;=50K</td>\n",
       "    </tr>\n",
       "    <tr>\n",
       "      <th>1</th>\n",
       "      <td>1</td>\n",
       "      <td>50</td>\n",
       "      <td>Self-emp-not-inc</td>\n",
       "      <td>83311</td>\n",
       "      <td>Bachelors</td>\n",
       "      <td>13</td>\n",
       "      <td>Married-civ-spouse</td>\n",
       "      <td>Exec-managerial</td>\n",
       "      <td>Husband</td>\n",
       "      <td>White</td>\n",
       "      <td>Male</td>\n",
       "      <td>0</td>\n",
       "      <td>0</td>\n",
       "      <td>13</td>\n",
       "      <td>United-States</td>\n",
       "      <td>&lt;=50K</td>\n",
       "    </tr>\n",
       "    <tr>\n",
       "      <th>2</th>\n",
       "      <td>2</td>\n",
       "      <td>38</td>\n",
       "      <td>Private</td>\n",
       "      <td>215646</td>\n",
       "      <td>HS-grad</td>\n",
       "      <td>9</td>\n",
       "      <td>Divorced</td>\n",
       "      <td>Handlers-cleaners</td>\n",
       "      <td>Not-in-family</td>\n",
       "      <td>White</td>\n",
       "      <td>Male</td>\n",
       "      <td>0</td>\n",
       "      <td>0</td>\n",
       "      <td>40</td>\n",
       "      <td>United-States</td>\n",
       "      <td>&lt;=50K</td>\n",
       "    </tr>\n",
       "    <tr>\n",
       "      <th>3</th>\n",
       "      <td>3</td>\n",
       "      <td>53</td>\n",
       "      <td>Private</td>\n",
       "      <td>234721</td>\n",
       "      <td>11th</td>\n",
       "      <td>7</td>\n",
       "      <td>Married-civ-spouse</td>\n",
       "      <td>Handlers-cleaners</td>\n",
       "      <td>Husband</td>\n",
       "      <td>Black</td>\n",
       "      <td>Male</td>\n",
       "      <td>0</td>\n",
       "      <td>0</td>\n",
       "      <td>40</td>\n",
       "      <td>United-States</td>\n",
       "      <td>&lt;=50K</td>\n",
       "    </tr>\n",
       "    <tr>\n",
       "      <th>4</th>\n",
       "      <td>4</td>\n",
       "      <td>28</td>\n",
       "      <td>Private</td>\n",
       "      <td>338409</td>\n",
       "      <td>Bachelors</td>\n",
       "      <td>13</td>\n",
       "      <td>Married-civ-spouse</td>\n",
       "      <td>Prof-specialty</td>\n",
       "      <td>Wife</td>\n",
       "      <td>Black</td>\n",
       "      <td>Female</td>\n",
       "      <td>0</td>\n",
       "      <td>0</td>\n",
       "      <td>40</td>\n",
       "      <td>Cuba</td>\n",
       "      <td>&lt;=50K</td>\n",
       "    </tr>\n",
       "  </tbody>\n",
       "</table>\n",
       "</div>"
      ],
      "text/plain": [
       "   Unnamed: 0  age          workclass  fnlwgt   education  education_num  \\\n",
       "0           0   39          State-gov   77516   Bachelors             13   \n",
       "1           1   50   Self-emp-not-inc   83311   Bachelors             13   \n",
       "2           2   38            Private  215646     HS-grad              9   \n",
       "3           3   53            Private  234721        11th              7   \n",
       "4           4   28            Private  338409   Bachelors             13   \n",
       "\n",
       "        marital_status          occupation    relationship    race      sex  \\\n",
       "0        Never-married        Adm-clerical   Not-in-family   White     Male   \n",
       "1   Married-civ-spouse     Exec-managerial         Husband   White     Male   \n",
       "2             Divorced   Handlers-cleaners   Not-in-family   White     Male   \n",
       "3   Married-civ-spouse   Handlers-cleaners         Husband   Black     Male   \n",
       "4   Married-civ-spouse      Prof-specialty            Wife   Black   Female   \n",
       "\n",
       "   capital_gain  capital_loss  hours_per_week  native_country  income  \n",
       "0          2174             0              40   United-States   <=50K  \n",
       "1             0             0              13   United-States   <=50K  \n",
       "2             0             0              40   United-States   <=50K  \n",
       "3             0             0              40   United-States   <=50K  \n",
       "4             0             0              40            Cuba   <=50K  "
      ]
     },
     "execution_count": 2,
     "metadata": {},
     "output_type": "execute_result"
    }
   ],
   "source": [
    "# Load and view the data\n",
    "\n",
    "file_path = \"Resources/\"\n",
    "# file_name = \"adult_c2.data\"\n",
    "file_name = \"census_data.csv\"\n",
    "# file_name = \"census_data_id2.csv\"\n",
    "\n",
    "input_file = file_path + file_name\n",
    "\n",
    "# col_names_id = [\"p_id\", \"age\", \"workclass\", \"fnlwgt\", \"education\", \"education_num\", \"marital_status\", \"occupation\",\n",
    "#                 \"relationship\", \"race\", \"sex\", \"capital_gain\", \"capital_loss\", \"hours_per_week\", \"native_country\",\n",
    "#                 \"income_grp\"]\n",
    "\n",
    "# col_names = [\"age\", \"workclass\", \"fnlwgt\", \"education\", \"education_num\", \"marital_status\", \"occupation\",\n",
    "#              \"relationship\", \"race\", \"sex\", \"capital_gain\", \"capital_loss\", \"hours_per_week\", \"native_country\",\n",
    "#              \"income_grp\"]\n",
    "\n",
    "# https://stackoverflow.com/questions/15026698/how-to-make-separator-in-pandas-read-csv-more-flexible-wrt-whitespace-for-irreg\n",
    "# df_census_income = pd.read_csv(input_file, header=None, names=col_names, memory_map=True, skipinitialspace=True)\n",
    "df_census_income = pd.read_csv(input_file, memory_map=True)\n",
    "\n",
    "df_census_income.head()"
   ]
  },
  {
   "cell_type": "code",
   "execution_count": 3,
   "id": "dbeac370",
   "metadata": {},
   "outputs": [
    {
     "name": "stdout",
     "output_type": "stream",
     "text": [
      "<class 'pandas.core.frame.DataFrame'>\n",
      "RangeIndex: 32561 entries, 0 to 32560\n",
      "Data columns (total 16 columns):\n",
      " #   Column          Non-Null Count  Dtype \n",
      "---  ------          --------------  ----- \n",
      " 0   Unnamed: 0      32561 non-null  int64 \n",
      " 1   age             32561 non-null  int64 \n",
      " 2   workclass       32561 non-null  object\n",
      " 3   fnlwgt          32561 non-null  int64 \n",
      " 4   education       32561 non-null  object\n",
      " 5   education_num   32561 non-null  int64 \n",
      " 6   marital_status  32561 non-null  object\n",
      " 7   occupation      32561 non-null  object\n",
      " 8   relationship    32561 non-null  object\n",
      " 9   race            32561 non-null  object\n",
      " 10  sex             32561 non-null  object\n",
      " 11  capital_gain    32561 non-null  int64 \n",
      " 12  capital_loss    32561 non-null  int64 \n",
      " 13  hours_per_week  32561 non-null  int64 \n",
      " 14  native_country  32561 non-null  object\n",
      " 15  income          32561 non-null  object\n",
      "dtypes: int64(7), object(9)\n",
      "memory usage: 4.0+ MB\n"
     ]
    }
   ],
   "source": [
    "#Step 1 - Basic information\n",
    "\n",
    "# View basic information about the dataset\n",
    "\n",
    "df_census_income.info()"
   ]
  },
  {
   "cell_type": "code",
   "execution_count": 4,
   "id": "22c4fee7",
   "metadata": {},
   "outputs": [],
   "source": [
    "# df_census_income[\"education_num\"] = pd.to_numeric(df_census_income[\"education_num\"].astype(\"string\"))"
   ]
  },
  {
   "cell_type": "code",
   "execution_count": 5,
   "id": "f1e7c159",
   "metadata": {},
   "outputs": [
    {
     "data": {
      "text/html": [
       "<div>\n",
       "<style scoped>\n",
       "    .dataframe tbody tr th:only-of-type {\n",
       "        vertical-align: middle;\n",
       "    }\n",
       "\n",
       "    .dataframe tbody tr th {\n",
       "        vertical-align: top;\n",
       "    }\n",
       "\n",
       "    .dataframe thead th {\n",
       "        text-align: right;\n",
       "    }\n",
       "</style>\n",
       "<table border=\"1\" class=\"dataframe\">\n",
       "  <thead>\n",
       "    <tr style=\"text-align: right;\">\n",
       "      <th></th>\n",
       "      <th>Unnamed: 0</th>\n",
       "      <th>age</th>\n",
       "      <th>fnlwgt</th>\n",
       "      <th>education_num</th>\n",
       "      <th>capital_gain</th>\n",
       "      <th>capital_loss</th>\n",
       "      <th>hours_per_week</th>\n",
       "    </tr>\n",
       "  </thead>\n",
       "  <tbody>\n",
       "    <tr>\n",
       "      <th>count</th>\n",
       "      <td>32561.000000</td>\n",
       "      <td>32561.000000</td>\n",
       "      <td>3.256100e+04</td>\n",
       "      <td>32561.000000</td>\n",
       "      <td>32561.000000</td>\n",
       "      <td>32561.000000</td>\n",
       "      <td>32561.000000</td>\n",
       "    </tr>\n",
       "    <tr>\n",
       "      <th>mean</th>\n",
       "      <td>16280.000000</td>\n",
       "      <td>38.581647</td>\n",
       "      <td>1.897784e+05</td>\n",
       "      <td>10.080679</td>\n",
       "      <td>1077.648844</td>\n",
       "      <td>87.303830</td>\n",
       "      <td>40.437456</td>\n",
       "    </tr>\n",
       "    <tr>\n",
       "      <th>std</th>\n",
       "      <td>9399.695394</td>\n",
       "      <td>13.640433</td>\n",
       "      <td>1.055500e+05</td>\n",
       "      <td>2.572720</td>\n",
       "      <td>7385.292085</td>\n",
       "      <td>402.960219</td>\n",
       "      <td>12.347429</td>\n",
       "    </tr>\n",
       "    <tr>\n",
       "      <th>min</th>\n",
       "      <td>0.000000</td>\n",
       "      <td>17.000000</td>\n",
       "      <td>1.228500e+04</td>\n",
       "      <td>1.000000</td>\n",
       "      <td>0.000000</td>\n",
       "      <td>0.000000</td>\n",
       "      <td>1.000000</td>\n",
       "    </tr>\n",
       "    <tr>\n",
       "      <th>25%</th>\n",
       "      <td>8140.000000</td>\n",
       "      <td>28.000000</td>\n",
       "      <td>1.178270e+05</td>\n",
       "      <td>9.000000</td>\n",
       "      <td>0.000000</td>\n",
       "      <td>0.000000</td>\n",
       "      <td>40.000000</td>\n",
       "    </tr>\n",
       "    <tr>\n",
       "      <th>50%</th>\n",
       "      <td>16280.000000</td>\n",
       "      <td>37.000000</td>\n",
       "      <td>1.783560e+05</td>\n",
       "      <td>10.000000</td>\n",
       "      <td>0.000000</td>\n",
       "      <td>0.000000</td>\n",
       "      <td>40.000000</td>\n",
       "    </tr>\n",
       "    <tr>\n",
       "      <th>75%</th>\n",
       "      <td>24420.000000</td>\n",
       "      <td>48.000000</td>\n",
       "      <td>2.370510e+05</td>\n",
       "      <td>12.000000</td>\n",
       "      <td>0.000000</td>\n",
       "      <td>0.000000</td>\n",
       "      <td>45.000000</td>\n",
       "    </tr>\n",
       "    <tr>\n",
       "      <th>max</th>\n",
       "      <td>32560.000000</td>\n",
       "      <td>90.000000</td>\n",
       "      <td>1.484705e+06</td>\n",
       "      <td>16.000000</td>\n",
       "      <td>99999.000000</td>\n",
       "      <td>4356.000000</td>\n",
       "      <td>99.000000</td>\n",
       "    </tr>\n",
       "  </tbody>\n",
       "</table>\n",
       "</div>"
      ],
      "text/plain": [
       "         Unnamed: 0           age        fnlwgt  education_num  capital_gain  \\\n",
       "count  32561.000000  32561.000000  3.256100e+04   32561.000000  32561.000000   \n",
       "mean   16280.000000     38.581647  1.897784e+05      10.080679   1077.648844   \n",
       "std     9399.695394     13.640433  1.055500e+05       2.572720   7385.292085   \n",
       "min        0.000000     17.000000  1.228500e+04       1.000000      0.000000   \n",
       "25%     8140.000000     28.000000  1.178270e+05       9.000000      0.000000   \n",
       "50%    16280.000000     37.000000  1.783560e+05      10.000000      0.000000   \n",
       "75%    24420.000000     48.000000  2.370510e+05      12.000000      0.000000   \n",
       "max    32560.000000     90.000000  1.484705e+06      16.000000  99999.000000   \n",
       "\n",
       "       capital_loss  hours_per_week  \n",
       "count  32561.000000    32561.000000  \n",
       "mean      87.303830       40.437456  \n",
       "std      402.960219       12.347429  \n",
       "min        0.000000        1.000000  \n",
       "25%        0.000000       40.000000  \n",
       "50%        0.000000       40.000000  \n",
       "75%        0.000000       45.000000  \n",
       "max     4356.000000       99.000000  "
      ]
     },
     "execution_count": 5,
     "metadata": {},
     "output_type": "execute_result"
    }
   ],
   "source": [
    "# View data descriptive statistics\n",
    "\n",
    "df_census_income.describe()"
   ]
  },
  {
   "cell_type": "code",
   "execution_count": 6,
   "id": "de497174",
   "metadata": {},
   "outputs": [
    {
     "data": {
      "text/plain": [
       "0"
      ]
     },
     "execution_count": 6,
     "metadata": {},
     "output_type": "execute_result"
    }
   ],
   "source": [
    "#Step 2 - Duplicate values\n",
    "\n",
    "# Check for any duplicate values\n",
    "\n",
    "df_census_income.duplicated().sum()"
   ]
  },
  {
   "cell_type": "code",
   "execution_count": 7,
   "id": "f9e0041d",
   "metadata": {},
   "outputs": [],
   "source": [
    "# Note: athough there are 24 duplicates, considering dataset this can be expected\n",
    "# as income_grp column is already binned."
   ]
  },
  {
   "cell_type": "code",
   "execution_count": 8,
   "id": "9effeaaf",
   "metadata": {},
   "outputs": [
    {
     "data": {
      "text/plain": [
       "array([39, 50, 38, 53, 28, 37, 49, 52, 31, 42, 30, 23, 32, 40, 34, 25, 43,\n",
       "       54, 35, 59, 56, 19, 20, 45, 22, 48, 21, 24, 57, 44, 41, 29, 18, 47,\n",
       "       46, 36, 79, 27, 67, 33, 76, 17, 55, 61, 70, 64, 71, 68, 66, 51, 58,\n",
       "       26, 60, 90, 75, 65, 77, 62, 63, 80, 72, 74, 69, 73, 81, 78, 88, 82,\n",
       "       83, 84, 85, 86, 87], dtype=int64)"
      ]
     },
     "execution_count": 8,
     "metadata": {},
     "output_type": "execute_result"
    }
   ],
   "source": [
    "#Step 3 - Unique values in the data\n",
    "\n",
    "# Find the unique data values of each column\n",
    "\n",
    "df_census_income[\"age\"].unique()"
   ]
  },
  {
   "cell_type": "code",
   "execution_count": 9,
   "id": "dd73af9a",
   "metadata": {},
   "outputs": [
    {
     "data": {
      "text/plain": [
       "array([' 10th', ' 11th', ' 12th', ' 1st-4th', ' 5th-6th', ' 7th-8th',\n",
       "       ' 9th', ' Assoc-acdm', ' Assoc-voc', ' Bachelors', ' Doctorate',\n",
       "       ' HS-grad', ' Masters', ' Preschool', ' Prof-school',\n",
       "       ' Some-college'], dtype=object)"
      ]
     },
     "execution_count": 9,
     "metadata": {},
     "output_type": "execute_result"
    }
   ],
   "source": [
    "df_census_income[\"education\"].sort_values().unique()"
   ]
  },
  {
   "cell_type": "code",
   "execution_count": 10,
   "id": "5a3571a6",
   "metadata": {},
   "outputs": [
    {
     "name": "stdout",
     "output_type": "stream",
     "text": [
      "Unique value(s) in column 'Unnamed: 0', dtype=int64:\n",
      "[    0     1     2 ... 32558 32559 32560]\n",
      "\n",
      "Unique value(s) in column 'age', dtype=int64:\n",
      "[17 18 19 20 21 22 23 24 25 26 27 28 29 30 31 32 33 34 35 36 37 38 39 40\n",
      " 41 42 43 44 45 46 47 48 49 50 51 52 53 54 55 56 57 58 59 60 61 62 63 64\n",
      " 65 66 67 68 69 70 71 72 73 74 75 76 77 78 79 80 81 82 83 84 85 86 87 88\n",
      " 90]\n",
      "\n",
      "Unique value(s) in column 'workclass', dtype=object:\n",
      "[' ?' ' Federal-gov' ' Local-gov' ' Never-worked' ' Private'\n",
      " ' Self-emp-inc' ' Self-emp-not-inc' ' State-gov' ' Without-pay']\n",
      "\n",
      "Unique value(s) in column 'fnlwgt', dtype=int64:\n",
      "[  12285   13769   14878 ... 1366120 1455435 1484705]\n",
      "\n",
      "Unique value(s) in column 'education', dtype=object:\n",
      "[' 10th' ' 11th' ' 12th' ' 1st-4th' ' 5th-6th' ' 7th-8th' ' 9th'\n",
      " ' Assoc-acdm' ' Assoc-voc' ' Bachelors' ' Doctorate' ' HS-grad'\n",
      " ' Masters' ' Preschool' ' Prof-school' ' Some-college']\n",
      "\n",
      "Unique value(s) in column 'education_num', dtype=int64:\n",
      "[ 1  2  3  4  5  6  7  8  9 10 11 12 13 14 15 16]\n",
      "\n",
      "Unique value(s) in column 'marital_status', dtype=object:\n",
      "[' Divorced' ' Married-AF-spouse' ' Married-civ-spouse'\n",
      " ' Married-spouse-absent' ' Never-married' ' Separated' ' Widowed']\n",
      "\n",
      "Unique value(s) in column 'occupation', dtype=object:\n",
      "[' ?' ' Adm-clerical' ' Armed-Forces' ' Craft-repair' ' Exec-managerial'\n",
      " ' Farming-fishing' ' Handlers-cleaners' ' Machine-op-inspct'\n",
      " ' Other-service' ' Priv-house-serv' ' Prof-specialty' ' Protective-serv'\n",
      " ' Sales' ' Tech-support' ' Transport-moving']\n",
      "\n",
      "Unique value(s) in column 'relationship', dtype=object:\n",
      "[' Husband' ' Not-in-family' ' Other-relative' ' Own-child' ' Unmarried'\n",
      " ' Wife']\n",
      "\n",
      "Unique value(s) in column 'race', dtype=object:\n",
      "[' Amer-Indian-Eskimo' ' Asian-Pac-Islander' ' Black' ' Other' ' White']\n",
      "\n",
      "Unique value(s) in column 'sex', dtype=object:\n",
      "[' Female' ' Male']\n",
      "\n",
      "Unique value(s) in column 'capital_gain', dtype=int64:\n",
      "[    0   114   401   594   914   991  1055  1086  1111  1151  1173  1409\n",
      "  1424  1455  1471  1506  1639  1797  1831  1848  2009  2036  2050  2062\n",
      "  2105  2174  2176  2202  2228  2290  2329  2346  2354  2387  2407  2414\n",
      "  2463  2538  2580  2597  2635  2653  2829  2885  2907  2936  2961  2964\n",
      "  2977  2993  3103  3137  3273  3325  3411  3418  3432  3456  3464  3471\n",
      "  3674  3781  3818  3887  3908  3942  4064  4101  4386  4416  4508  4650\n",
      "  4687  4787  4865  4931  4934  5013  5060  5178  5455  5556  5721  6097\n",
      "  6360  6418  6497  6514  6723  6767  6849  7298  7430  7443  7688  7896\n",
      "  7978  8614  9386  9562 10520 10566 10605 11678 13550 14084 14344 15020\n",
      " 15024 15831 18481 20051 22040 25124 25236 27828 34095 41310 99999]\n",
      "\n",
      "Unique value(s) in column 'capital_loss', dtype=int64:\n",
      "[   0  155  213  323  419  625  653  810  880  974 1092 1138 1258 1340\n",
      " 1380 1408 1411 1485 1504 1539 1564 1573 1579 1590 1594 1602 1617 1628\n",
      " 1648 1651 1668 1669 1672 1719 1721 1726 1735 1740 1741 1755 1762 1816\n",
      " 1825 1844 1848 1876 1887 1902 1944 1974 1977 1980 2001 2002 2042 2051\n",
      " 2057 2080 2129 2149 2163 2174 2179 2201 2205 2206 2231 2238 2246 2258\n",
      " 2267 2282 2339 2352 2377 2392 2415 2444 2457 2467 2472 2489 2547 2559\n",
      " 2603 2754 2824 3004 3683 3770 3900 4356]\n",
      "\n",
      "Unique value(s) in column 'hours_per_week', dtype=int64:\n",
      "[ 1  2  3  4  5  6  7  8  9 10 11 12 13 14 15 16 17 18 19 20 21 22 23 24\n",
      " 25 26 27 28 29 30 31 32 33 34 35 36 37 38 39 40 41 42 43 44 45 46 47 48\n",
      " 49 50 51 52 53 54 55 56 57 58 59 60 61 62 63 64 65 66 67 68 70 72 73 74\n",
      " 75 76 77 78 80 81 82 84 85 86 87 88 89 90 91 92 94 95 96 97 98 99]\n",
      "\n",
      "Unique value(s) in column 'native_country', dtype=object:\n",
      "[' ?' ' Cambodia' ' Canada' ' China' ' Columbia' ' Cuba'\n",
      " ' Dominican-Republic' ' Ecuador' ' El-Salvador' ' England' ' France'\n",
      " ' Germany' ' Greece' ' Guatemala' ' Haiti' ' Holand-Netherlands'\n",
      " ' Honduras' ' Hong' ' Hungary' ' India' ' Iran' ' Ireland' ' Italy'\n",
      " ' Jamaica' ' Japan' ' Laos' ' Mexico' ' Nicaragua'\n",
      " ' Outlying-US(Guam-USVI-etc)' ' Peru' ' Philippines' ' Poland'\n",
      " ' Portugal' ' Puerto-Rico' ' Scotland' ' South' ' Taiwan' ' Thailand'\n",
      " ' Trinadad&Tobago' ' United-States' ' Vietnam' ' Yugoslavia']\n",
      "\n",
      "Unique value(s) in column 'income', dtype=object:\n",
      "[' <=50K' ' >50K']\n",
      "\n"
     ]
    }
   ],
   "source": [
    "for col in df_census_income.columns:\n",
    "    print(f\"Unique value(s) in column \\'{col}\\', dtype={df_census_income[col].dtype}:\")\n",
    "    print(f\"{df_census_income[col].sort_values().unique()}\\n\")"
   ]
  },
  {
   "cell_type": "code",
   "execution_count": 11,
   "id": "92f396c9",
   "metadata": {},
   "outputs": [
    {
     "data": {
      "text/plain": [
       "<AxesSubplot:xlabel='count', ylabel='age'>"
      ]
     },
     "execution_count": 11,
     "metadata": {},
     "output_type": "execute_result"
    },
    {
     "data": {
      "image/png": "[encoded data removed]",
      "text/plain": [
       "<Figure size 432x288 with 1 Axes>"
      ]
     },
     "metadata": {
      "needs_background": "light"
     },
     "output_type": "display_data"
    }
   ],
   "source": [
    "#Step 4 - Visualize the Unique counts\n",
    "\n",
    "# Plot the unique values\n",
    "\n",
    "sns.countplot(y=df_census_income[\"age\"])"
   ]
  },
  {
   "cell_type": "code",
   "execution_count": 12,
   "id": "ca2a1867",
   "metadata": {},
   "outputs": [
    {
     "data": {
      "text/plain": [
       "<AxesSubplot:xlabel='count', ylabel='workclass'>"
      ]
     },
     "execution_count": 12,
     "metadata": {},
     "output_type": "execute_result"
    },
    {
     "data": {
      "image/png": "[encoded data removed]",
      "text/plain": [
       "<Figure size 432x288 with 1 Axes>"
      ]
     },
     "metadata": {
      "needs_background": "light"
     },
     "output_type": "display_data"
    }
   ],
   "source": [
    "sns.countplot(y=df_census_income[\"workclass\"])"
   ]
  },
  {
   "cell_type": "code",
   "execution_count": 13,
   "id": "d3050755",
   "metadata": {},
   "outputs": [
    {
     "data": {
      "text/plain": [
       "<AxesSubplot:xlabel='count', ylabel='workclass'>"
      ]
     },
     "execution_count": 13,
     "metadata": {},
     "output_type": "execute_result"
    },
    {
     "data": {
      "image/png": "[encoded data removed]",
      "text/plain": [
       "<Figure size 432x288 with 1 Axes>"
      ]
     },
     "metadata": {
      "needs_background": "light"
     },
     "output_type": "display_data"
    }
   ],
   "source": [
    "sns.countplot(y=df_census_income[\"workclass\"].sort_values())"
   ]
  },
  {
   "cell_type": "code",
   "execution_count": 14,
   "id": "efda4a7f",
   "metadata": {},
   "outputs": [
    {
     "data": {
      "text/plain": [
       "<AxesSubplot:xlabel='count', ylabel='education'>"
      ]
     },
     "execution_count": 14,
     "metadata": {},
     "output_type": "execute_result"
    },
    {
     "data": {
      "image/png": "[encoded data removed]",
      "text/plain": [
       "<Figure size 432x288 with 1 Axes>"
      ]
     },
     "metadata": {
      "needs_background": "light"
     },
     "output_type": "display_data"
    }
   ],
   "source": [
    "sns.countplot(y=df_census_income[\"education\"].sort_values())"
   ]
  },
  {
   "cell_type": "code",
   "execution_count": 15,
   "id": "daa6e50c",
   "metadata": {},
   "outputs": [
    {
     "data": {
      "text/plain": [
       "<AxesSubplot:xlabel='count', ylabel='education_num'>"
      ]
     },
     "execution_count": 15,
     "metadata": {},
     "output_type": "execute_result"
    },
    {
     "data": {
      "image/png": "[encoded data removed]",
      "text/plain": [
       "<Figure size 432x288 with 1 Axes>"
      ]
     },
     "metadata": {
      "needs_background": "light"
     },
     "output_type": "display_data"
    }
   ],
   "source": [
    "sns.countplot(y=df_census_income[\"education_num\"])"
   ]
  },
  {
   "cell_type": "code",
   "execution_count": 16,
   "id": "68c8ac1a",
   "metadata": {},
   "outputs": [
    {
     "data": {
      "text/plain": [
       "<AxesSubplot:xlabel='count', ylabel='marital_status'>"
      ]
     },
     "execution_count": 16,
     "metadata": {},
     "output_type": "execute_result"
    },
    {
     "data": {
      "image/png": "[encoded data removed]",
      "text/plain": [
       "<Figure size 432x288 with 1 Axes>"
      ]
     },
     "metadata": {
      "needs_background": "light"
     },
     "output_type": "display_data"
    }
   ],
   "source": [
    "sns.countplot(y=df_census_income[\"marital_status\"].sort_values())"
   ]
  },
  {
   "cell_type": "code",
   "execution_count": 17,
   "id": "947525df",
   "metadata": {},
   "outputs": [
    {
     "data": {
      "text/plain": [
       "<AxesSubplot:xlabel='count', ylabel='occupation'>"
      ]
     },
     "execution_count": 17,
     "metadata": {},
     "output_type": "execute_result"
    },
    {
     "data": {
      "image/png": "[encoded data removed]",
      "text/plain": [
       "<Figure size 432x288 with 1 Axes>"
      ]
     },
     "metadata": {
      "needs_background": "light"
     },
     "output_type": "display_data"
    }
   ],
   "source": [
    "sns.countplot(y=df_census_income[\"occupation\"].sort_values())"
   ]
  },
  {
   "cell_type": "code",
   "execution_count": 18,
   "id": "2ca4f576",
   "metadata": {},
   "outputs": [
    {
     "data": {
      "text/plain": [
       "<AxesSubplot:xlabel='count', ylabel='relationship'>"
      ]
     },
     "execution_count": 18,
     "metadata": {},
     "output_type": "execute_result"
    },
    {
     "data": {
      "image/png": "[encoded data removed]",
      "text/plain": [
       "<Figure size 432x288 with 1 Axes>"
      ]
     },
     "metadata": {
      "needs_background": "light"
     },
     "output_type": "display_data"
    }
   ],
   "source": [
    "sns.countplot(y=df_census_income[\"relationship\"].sort_values())"
   ]
  },
  {
   "cell_type": "code",
   "execution_count": 19,
   "id": "c0143e10",
   "metadata": {},
   "outputs": [
    {
     "data": {
      "text/plain": [
       "<AxesSubplot:xlabel='count', ylabel='race'>"
      ]
     },
     "execution_count": 19,
     "metadata": {},
     "output_type": "execute_result"
    },
    {
     "data": {
      "image/png": "[encoded data removed]",
      "text/plain": [
       "<Figure size 432x288 with 1 Axes>"
      ]
     },
     "metadata": {
      "needs_background": "light"
     },
     "output_type": "display_data"
    }
   ],
   "source": [
    "sns.countplot(y=df_census_income[\"race\"].sort_values())"
   ]
  },
  {
   "cell_type": "code",
   "execution_count": 20,
   "id": "c53d62d5",
   "metadata": {},
   "outputs": [
    {
     "data": {
      "text/plain": [
       "<AxesSubplot:xlabel='count', ylabel='sex'>"
      ]
     },
     "execution_count": 20,
     "metadata": {},
     "output_type": "execute_result"
    },
    {
     "data": {
      "image/png": "[encoded data removed]",
      "text/plain": [
       "<Figure size 432x288 with 1 Axes>"
      ]
     },
     "metadata": {
      "needs_background": "light"
     },
     "output_type": "display_data"
    }
   ],
   "source": [
    "sns.countplot(y=df_census_income[\"sex\"].sort_values())"
   ]
  },
  {
   "cell_type": "code",
   "execution_count": 21,
   "id": "aa1b40a0",
   "metadata": {},
   "outputs": [
    {
     "data": {
      "text/plain": [
       "<AxesSubplot:xlabel='capital_gain', ylabel='count'>"
      ]
     },
     "execution_count": 21,
     "metadata": {},
     "output_type": "execute_result"
    },
    {
     "data": {
      "image/png": "[encoded data removed]",
      "text/plain": [
       "<Figure size 432x288 with 1 Axes>"
      ]
     },
     "metadata": {
      "needs_background": "light"
     },
     "output_type": "display_data"
    }
   ],
   "source": [
    "sns.countplot(x=df_census_income[\"capital_gain\"].sort_values())"
   ]
  },
  {
   "cell_type": "code",
   "execution_count": 22,
   "id": "4091c89c",
   "metadata": {},
   "outputs": [
    {
     "data": {
      "text/plain": [
       "0        29849\n",
       "114          6\n",
       "401          2\n",
       "594         34\n",
       "914          8\n",
       "         ...  \n",
       "25236       11\n",
       "27828       34\n",
       "34095        5\n",
       "41310        2\n",
       "99999      159\n",
       "Name: capital_gain, Length: 119, dtype: int64"
      ]
     },
     "execution_count": 22,
     "metadata": {},
     "output_type": "execute_result"
    }
   ],
   "source": [
    "df_census_income[\"capital_gain\"].value_counts().sort_index()"
   ]
  },
  {
   "cell_type": "code",
   "execution_count": 23,
   "id": "9f2fd4ad",
   "metadata": {},
   "outputs": [
    {
     "data": {
      "text/plain": [
       "<AxesSubplot:xlabel='capital_loss', ylabel='count'>"
      ]
     },
     "execution_count": 23,
     "metadata": {},
     "output_type": "execute_result"
    },
    {
     "data": {
      "image/png": "[encoded data removed]",
      "text/plain": [
       "<Figure size 432x288 with 1 Axes>"
      ]
     },
     "metadata": {
      "needs_background": "light"
     },
     "output_type": "display_data"
    }
   ],
   "source": [
    "sns.countplot(x=df_census_income[\"capital_loss\"].sort_values())"
   ]
  },
  {
   "cell_type": "code",
   "execution_count": 24,
   "id": "1ed1e8bc",
   "metadata": {},
   "outputs": [
    {
     "data": {
      "text/plain": [
       "0       31042\n",
       "155         1\n",
       "213         4\n",
       "323         3\n",
       "419         3\n",
       "        ...  \n",
       "3004        2\n",
       "3683        2\n",
       "3770        2\n",
       "3900        2\n",
       "4356        3\n",
       "Name: capital_loss, Length: 92, dtype: int64"
      ]
     },
     "execution_count": 24,
     "metadata": {},
     "output_type": "execute_result"
    }
   ],
   "source": [
    "df_census_income[\"capital_loss\"].value_counts().sort_index()"
   ]
  },
  {
   "cell_type": "code",
   "execution_count": 25,
   "id": "b8a0e7ff",
   "metadata": {},
   "outputs": [
    {
     "data": {
      "text/plain": [
       "<AxesSubplot:xlabel='count', ylabel='hours_per_week'>"
      ]
     },
     "execution_count": 25,
     "metadata": {},
     "output_type": "execute_result"
    },
    {
     "data": {
      "image/png": "[encoded data removed]",
      "text/plain": [
       "<Figure size 432x288 with 1 Axes>"
      ]
     },
     "metadata": {
      "needs_background": "light"
     },
     "output_type": "display_data"
    }
   ],
   "source": [
    "sns.countplot(y=df_census_income[\"hours_per_week\"].sort_values())"
   ]
  },
  {
   "cell_type": "code",
   "execution_count": 26,
   "id": "ec6c42e8",
   "metadata": {},
   "outputs": [
    {
     "data": {
      "text/plain": [
       "1     20\n",
       "2     32\n",
       "3     39\n",
       "4     54\n",
       "5     60\n",
       "      ..\n",
       "95     2\n",
       "96     5\n",
       "97     2\n",
       "98    11\n",
       "99    85\n",
       "Name: hours_per_week, Length: 94, dtype: int64"
      ]
     },
     "execution_count": 26,
     "metadata": {},
     "output_type": "execute_result"
    }
   ],
   "source": [
    "df_census_income[\"hours_per_week\"].value_counts().sort_index()"
   ]
  },
  {
   "cell_type": "code",
   "execution_count": 27,
   "id": "b34ca467",
   "metadata": {},
   "outputs": [
    {
     "data": {
      "text/plain": [
       "<AxesSubplot:xlabel='count', ylabel='native_country'>"
      ]
     },
     "execution_count": 27,
     "metadata": {},
     "output_type": "execute_result"
    },
    {
     "data": {
      "image/png": "[encoded data removed]",
      "text/plain": [
       "<Figure size 432x288 with 1 Axes>"
      ]
     },
     "metadata": {
      "needs_background": "light"
     },
     "output_type": "display_data"
    }
   ],
   "source": [
    "sns.countplot(y=df_census_income[\"native_country\"].sort_values())"
   ]
  },
  {
   "cell_type": "code",
   "execution_count": 28,
   "id": "4c0a2d42",
   "metadata": {},
   "outputs": [
    {
     "data": {
      "text/plain": [
       " ?                               583\n",
       " Cambodia                         19\n",
       " Canada                          121\n",
       " China                            75\n",
       " Columbia                         59\n",
       " Cuba                             95\n",
       " Dominican-Republic               70\n",
       " Ecuador                          28\n",
       " El-Salvador                     106\n",
       " England                          90\n",
       " France                           29\n",
       " Germany                         137\n",
       " Greece                           29\n",
       " Guatemala                        64\n",
       " Haiti                            44\n",
       " Holand-Netherlands                1\n",
       " Honduras                         13\n",
       " Hong                             20\n",
       " Hungary                          13\n",
       " India                           100\n",
       " Iran                             43\n",
       " Ireland                          24\n",
       " Italy                            73\n",
       " Jamaica                          81\n",
       " Japan                            62\n",
       " Laos                             18\n",
       " Mexico                          643\n",
       " Nicaragua                        34\n",
       " Outlying-US(Guam-USVI-etc)       14\n",
       " Peru                             31\n",
       " Philippines                     198\n",
       " Poland                           60\n",
       " Portugal                         37\n",
       " Puerto-Rico                     114\n",
       " Scotland                         12\n",
       " South                            80\n",
       " Taiwan                           51\n",
       " Thailand                         18\n",
       " Trinadad&Tobago                  19\n",
       " United-States                 29170\n",
       " Vietnam                          67\n",
       " Yugoslavia                       16\n",
       "Name: native_country, dtype: int64"
      ]
     },
     "execution_count": 28,
     "metadata": {},
     "output_type": "execute_result"
    }
   ],
   "source": [
    "df_census_income[\"native_country\"].value_counts().sort_index()"
   ]
  },
  {
   "cell_type": "code",
   "execution_count": 29,
   "id": "e5212fad",
   "metadata": {},
   "outputs": [
    {
     "data": {
      "text/plain": [
       " United-States                 29170\n",
       " Mexico                          643\n",
       " ?                               583\n",
       " Philippines                     198\n",
       " Germany                         137\n",
       " Canada                          121\n",
       " Puerto-Rico                     114\n",
       " El-Salvador                     106\n",
       " India                           100\n",
       " Cuba                             95\n",
       " England                          90\n",
       " Jamaica                          81\n",
       " South                            80\n",
       " China                            75\n",
       " Italy                            73\n",
       " Dominican-Republic               70\n",
       " Vietnam                          67\n",
       " Guatemala                        64\n",
       " Japan                            62\n",
       " Poland                           60\n",
       " Columbia                         59\n",
       " Taiwan                           51\n",
       " Haiti                            44\n",
       " Iran                             43\n",
       " Portugal                         37\n",
       " Nicaragua                        34\n",
       " Peru                             31\n",
       " France                           29\n",
       " Greece                           29\n",
       " Ecuador                          28\n",
       " Ireland                          24\n",
       " Hong                             20\n",
       " Cambodia                         19\n",
       " Trinadad&Tobago                  19\n",
       " Laos                             18\n",
       " Thailand                         18\n",
       " Yugoslavia                       16\n",
       " Outlying-US(Guam-USVI-etc)       14\n",
       " Honduras                         13\n",
       " Hungary                          13\n",
       " Scotland                         12\n",
       " Holand-Netherlands                1\n",
       "Name: native_country, dtype: int64"
      ]
     },
     "execution_count": 29,
     "metadata": {},
     "output_type": "execute_result"
    }
   ],
   "source": [
    "df_census_income[\"native_country\"].value_counts()"
   ]
  },
  {
   "cell_type": "code",
   "execution_count": 30,
   "id": "771461b0",
   "metadata": {},
   "outputs": [
    {
     "data": {
      "text/plain": [
       "<AxesSubplot:xlabel='count', ylabel='income'>"
      ]
     },
     "execution_count": 30,
     "metadata": {},
     "output_type": "execute_result"
    },
    {
     "data": {
      "image/png": "[encoded data removed]",
      "text/plain": [
       "<Figure size 432x288 with 1 Axes>"
      ]
     },
     "metadata": {
      "needs_background": "light"
     },
     "output_type": "display_data"
    }
   ],
   "source": [
    "# sns.countplot(y=df_census_income[\"income_grp\"].sort_values())\n",
    "sns.countplot(y=df_census_income[\"income\"].sort_values())"
   ]
  },
  {
   "cell_type": "code",
   "execution_count": 31,
   "id": "1b612bc4",
   "metadata": {},
   "outputs": [
    {
     "data": {
      "text/plain": [
       "Unnamed: 0        0\n",
       "age               0\n",
       "workclass         0\n",
       "fnlwgt            0\n",
       "education         0\n",
       "education_num     0\n",
       "marital_status    0\n",
       "occupation        0\n",
       "relationship      0\n",
       "race              0\n",
       "sex               0\n",
       "capital_gain      0\n",
       "capital_loss      0\n",
       "hours_per_week    0\n",
       "native_country    0\n",
       "income            0\n",
       "dtype: int64"
      ]
     },
     "execution_count": 31,
     "metadata": {},
     "output_type": "execute_result"
    }
   ],
   "source": [
    "#Step 5 - Find the Null values\n",
    "#\"Finding the null values is the *most important* step in the EDA.\"\n",
    "\n",
    "# Find null values\n",
    "\n",
    "df_census_income.isnull().sum()"
   ]
  },
  {
   "cell_type": "code",
   "execution_count": 32,
   "id": "f13e8499",
   "metadata": {},
   "outputs": [],
   "source": [
    "# No nulls to be expected since data was pre-cleaned, with\n",
    "# 'native_country' unknowns already changed to '?' values."
   ]
  },
  {
   "cell_type": "code",
   "execution_count": 33,
   "id": "88a29823",
   "metadata": {},
   "outputs": [],
   "source": [
    "#Step 6 - Replace the Null values\n",
    "\n",
    "# Choose a replacement value appropriate for dtype to be replaced.\n",
    "# Maybe change np.nan for 'int64' dtype to zero.\n",
    "# For example, the following *would be* run to accomplish this ...\n",
    "##df.replace(np.nan,'0',inplace=True)\n",
    "#\n",
    "# ... and then the changes rechecked ...\n",
    "##df.isnull().sum()\n",
    "#\n",
    "# ... to see that all sums were zero (0).\n",
    "\n",
    "# Quote from author of article- Prajwal CN- Developer and author\n",
    "# at DigitalOcean: \"I have used 0 to replace null values. You can\n",
    "# opt for more meaningful methods such as mean or median.\""
   ]
  },
  {
   "cell_type": "code",
   "execution_count": 34,
   "id": "81ff65f5",
   "metadata": {},
   "outputs": [
    {
     "data": {
      "text/plain": [
       "Unnamed: 0         int64\n",
       "age                int64\n",
       "workclass         object\n",
       "fnlwgt             int64\n",
       "education         object\n",
       "education_num      int64\n",
       "marital_status    object\n",
       "occupation        object\n",
       "relationship      object\n",
       "race              object\n",
       "sex               object\n",
       "capital_gain       int64\n",
       "capital_loss       int64\n",
       "hours_per_week     int64\n",
       "native_country    object\n",
       "income            object\n",
       "dtype: object"
      ]
     },
     "execution_count": 34,
     "metadata": {},
     "output_type": "execute_result"
    }
   ],
   "source": [
    "#Step 7 - Know the datatypes\n",
    "\n",
    "# Check datatypes\n",
    "\n",
    "df_census_income.dtypes"
   ]
  },
  {
   "cell_type": "code",
   "execution_count": 35,
   "id": "ee1ca917",
   "metadata": {},
   "outputs": [],
   "source": [
    "#Step 8 - Filter the Data\n",
    "\n",
    "# Filter the data based on some logic ..."
   ]
  },
  {
   "cell_type": "code",
   "execution_count": null,
   "id": "a161e5cd",
   "metadata": {},
   "outputs": [],
   "source": []
  },
  {
   "cell_type": "code",
   "execution_count": 36,
   "id": "23c0de8f",
   "metadata": {},
   "outputs": [
    {
     "data": {
      "text/html": [
       "<div>\n",
       "<style scoped>\n",
       "    .dataframe tbody tr th:only-of-type {\n",
       "        vertical-align: middle;\n",
       "    }\n",
       "\n",
       "    .dataframe tbody tr th {\n",
       "        vertical-align: top;\n",
       "    }\n",
       "\n",
       "    .dataframe thead th {\n",
       "        text-align: right;\n",
       "    }\n",
       "</style>\n",
       "<table border=\"1\" class=\"dataframe\">\n",
       "  <thead>\n",
       "    <tr style=\"text-align: right;\">\n",
       "      <th></th>\n",
       "      <th>Unnamed: 0</th>\n",
       "      <th>age</th>\n",
       "      <th>workclass</th>\n",
       "      <th>fnlwgt</th>\n",
       "      <th>education</th>\n",
       "      <th>education_num</th>\n",
       "      <th>marital_status</th>\n",
       "      <th>occupation</th>\n",
       "      <th>relationship</th>\n",
       "      <th>race</th>\n",
       "      <th>sex</th>\n",
       "      <th>capital_gain</th>\n",
       "      <th>capital_loss</th>\n",
       "      <th>hours_per_week</th>\n",
       "      <th>native_country</th>\n",
       "      <th>income</th>\n",
       "    </tr>\n",
       "  </thead>\n",
       "  <tbody>\n",
       "  </tbody>\n",
       "</table>\n",
       "</div>"
      ],
      "text/plain": [
       "Empty DataFrame\n",
       "Columns: [Unnamed: 0, age, workclass, fnlwgt, education, education_num, marital_status, occupation, relationship, race, sex, capital_gain, capital_loss, hours_per_week, native_country, income]\n",
       "Index: []"
      ]
     },
     "execution_count": 36,
     "metadata": {},
     "output_type": "execute_result"
    }
   ],
   "source": [
    "# search_text = b\"b' United-States'\"\n",
    "search_text = \"United-States\"\n",
    "\n",
    "df_census_income[df_census_income[\"native_country\"] == search_text].head(10)"
   ]
  },
  {
   "cell_type": "code",
   "execution_count": 37,
   "id": "bffa62e8",
   "metadata": {},
   "outputs": [],
   "source": [
    "# ## Commenting-out this code block- was for selecting column after discovered there\n",
    "# ## was a space before the string values; before looking up 'skipinitialspace=True'\n",
    "# ## option when loading (and viewing) the data file.\n",
    "\n",
    "# # mask_country = df_census_income.loc[:, \"native_country\"]\n",
    "# # mask_country = df_census_income[\"native_country\"].astype(str) == b\"b' United-States'\"\n",
    "# # mask_country = df_census_income[\"native_country\"].astype(str) == \" United-States\"\n",
    "# mask_country = df_census_income[\"native_country\"].astype(str) == \"United-States\"\n",
    "\n",
    "# df_census_income_masked = df_census_income[mask_country].copy()\n",
    "\n",
    "# df_census_income_masked.head()\n",
    "\n",
    "# print(df_census_income[\"native_country\"].value_counts())\n",
    "\n",
    "# print(type(mask_country))\n",
    "\n",
    "# mask_country.value_counts()"
   ]
  },
  {
   "cell_type": "code",
   "execution_count": 38,
   "id": "0854170a",
   "metadata": {},
   "outputs": [
    {
     "data": {
      "text/plain": [
       "['Unnamed: 0',\n",
       " 'age',\n",
       " 'workclass',\n",
       " 'fnlwgt',\n",
       " 'education',\n",
       " 'education_num',\n",
       " 'marital_status',\n",
       " 'occupation',\n",
       " 'relationship',\n",
       " 'race',\n",
       " 'sex',\n",
       " 'capital_gain',\n",
       " 'capital_loss',\n",
       " 'hours_per_week',\n",
       " 'native_country',\n",
       " 'income']"
      ]
     },
     "execution_count": 38,
     "metadata": {},
     "output_type": "execute_result"
    }
   ],
   "source": [
    "df_census_income.columns.to_list()"
   ]
  },
  {
   "cell_type": "code",
   "execution_count": 39,
   "id": "38bf00ef",
   "metadata": {},
   "outputs": [
    {
     "data": {
      "text/plain": [
       "Unnamed: 0         int64\n",
       "age                int64\n",
       "workclass         object\n",
       "fnlwgt             int64\n",
       "education         object\n",
       "education_num      int64\n",
       "marital_status    object\n",
       "occupation        object\n",
       "relationship      object\n",
       "race              object\n",
       "sex               object\n",
       "capital_gain       int64\n",
       "capital_loss       int64\n",
       "hours_per_week     int64\n",
       "native_country    object\n",
       "income            object\n",
       "dtype: object"
      ]
     },
     "execution_count": 39,
     "metadata": {},
     "output_type": "execute_result"
    }
   ],
   "source": [
    "df_census_income.dtypes"
   ]
  },
  {
   "cell_type": "code",
   "execution_count": 40,
   "id": "9d304d2a",
   "metadata": {},
   "outputs": [],
   "source": [
    "# ## Commenting-out this code block also- like one above, was (an attempt here) to\n",
    "# ## select column before looked up 'skipinitialspace=True' option to load/view file.\n",
    "\n",
    "# # df_census_income[\"native_country\"] = df_census_income[\"native_country\"].astype('|S')\n",
    "# df_census_income[\"native_country\"] = df_census_income[\"native_country\"].astype(str)\n",
    "\n",
    "# df_census_income.dtypes"
   ]
  },
  {
   "cell_type": "code",
   "execution_count": 41,
   "id": "60b8a32f",
   "metadata": {},
   "outputs": [],
   "source": [
    "# ## Same comment as for code cell block above.\n",
    "\n",
    "# df_census_income[df_census_income[\"native_country\"] == \" United-States\"]"
   ]
  },
  {
   "cell_type": "code",
   "execution_count": 42,
   "id": "13f3c411",
   "metadata": {},
   "outputs": [
    {
     "data": {
      "text/plain": [
       "17    395\n",
       "18    550\n",
       "19    712\n",
       "20    753\n",
       "21    720\n",
       "     ... \n",
       "85      3\n",
       "86      1\n",
       "87      1\n",
       "88      3\n",
       "90     43\n",
       "Name: age, Length: 73, dtype: int64"
      ]
     },
     "execution_count": 42,
     "metadata": {},
     "output_type": "execute_result"
    }
   ],
   "source": [
    "df_census_income[\"age\"].value_counts().sort_index()"
   ]
  },
  {
   "cell_type": "code",
   "execution_count": 43,
   "id": "763044ad",
   "metadata": {},
   "outputs": [
    {
     "data": {
      "text/plain": [
       " United-States         17\n",
       " Mexico                17\n",
       " El-Salvador            4\n",
       " Dominican-Republic     2\n",
       " China                  2\n",
       " Cambodia               1\n",
       " Philippines            1\n",
       " ?                      1\n",
       " India                  1\n",
       " Nicaragua              1\n",
       " Laos                   1\n",
       " Hong                   1\n",
       " Guatemala              1\n",
       " Puerto-Rico            1\n",
       "Name: native_country, dtype: int64"
      ]
     },
     "execution_count": 43,
     "metadata": {},
     "output_type": "execute_result"
    }
   ],
   "source": [
    "df_census_income[df_census_income[\"education_num\"] == 1][\"native_country\"].value_counts()"
   ]
  },
  {
   "cell_type": "code",
   "execution_count": null,
   "id": "96677a0b",
   "metadata": {},
   "outputs": [],
   "source": []
  },
  {
   "cell_type": "code",
   "execution_count": 44,
   "id": "e2da8918",
   "metadata": {},
   "outputs": [
    {
     "data": {
      "text/plain": [
       "education      education_num\n",
       " HS-grad       9                10501\n",
       " Some-college  10                7291\n",
       " Bachelors     13                5355\n",
       " Masters       14                1723\n",
       " Assoc-voc     11                1382\n",
       " 11th          7                 1175\n",
       " Assoc-acdm    12                1067\n",
       " 10th          6                  933\n",
       " 7th-8th       4                  646\n",
       " Prof-school   15                 576\n",
       " 9th           5                  514\n",
       " 12th          8                  433\n",
       " Doctorate     16                 413\n",
       " 5th-6th       3                  333\n",
       " 1st-4th       2                  168\n",
       " Preschool     1                   51\n",
       "dtype: int64"
      ]
     },
     "execution_count": 44,
     "metadata": {},
     "output_type": "execute_result"
    }
   ],
   "source": [
    "df_census_income[[\"education\", \"education_num\"]].value_counts()"
   ]
  },
  {
   "cell_type": "code",
   "execution_count": 45,
   "id": "fab76f6f",
   "metadata": {},
   "outputs": [
    {
     "data": {
      "text/plain": [
       "education_num  education    \n",
       "1               Preschool          51\n",
       "2               1st-4th           168\n",
       "3               5th-6th           333\n",
       "4               7th-8th           646\n",
       "5               9th               514\n",
       "6               10th              933\n",
       "7               11th             1175\n",
       "8               12th              433\n",
       "9               HS-grad         10501\n",
       "10              Some-college     7291\n",
       "11              Assoc-voc        1382\n",
       "12              Assoc-acdm       1067\n",
       "13              Bachelors        5355\n",
       "14              Masters          1723\n",
       "15              Prof-school       576\n",
       "16              Doctorate         413\n",
       "dtype: int64"
      ]
     },
     "execution_count": 45,
     "metadata": {},
     "output_type": "execute_result"
    }
   ],
   "source": [
    "df_census_income[[\"education_num\", \"education\"]].value_counts().sort_index()"
   ]
  },
  {
   "cell_type": "code",
   "execution_count": 46,
   "id": "91f6d5a1",
   "metadata": {},
   "outputs": [
    {
     "data": {
      "text/html": [
       "<div>\n",
       "<style scoped>\n",
       "    .dataframe tbody tr th:only-of-type {\n",
       "        vertical-align: middle;\n",
       "    }\n",
       "\n",
       "    .dataframe tbody tr th {\n",
       "        vertical-align: top;\n",
       "    }\n",
       "\n",
       "    .dataframe thead th {\n",
       "        text-align: right;\n",
       "    }\n",
       "</style>\n",
       "<table border=\"1\" class=\"dataframe\">\n",
       "  <thead>\n",
       "    <tr style=\"text-align: right;\">\n",
       "      <th></th>\n",
       "      <th>Unnamed: 0</th>\n",
       "      <th>age</th>\n",
       "      <th>workclass</th>\n",
       "      <th>fnlwgt</th>\n",
       "      <th>education</th>\n",
       "      <th>education_num</th>\n",
       "      <th>marital_status</th>\n",
       "      <th>occupation</th>\n",
       "      <th>relationship</th>\n",
       "      <th>race</th>\n",
       "      <th>sex</th>\n",
       "      <th>capital_gain</th>\n",
       "      <th>capital_loss</th>\n",
       "      <th>hours_per_week</th>\n",
       "      <th>native_country</th>\n",
       "      <th>income</th>\n",
       "    </tr>\n",
       "  </thead>\n",
       "  <tbody>\n",
       "    <tr>\n",
       "      <th>0</th>\n",
       "      <td>0</td>\n",
       "      <td>39</td>\n",
       "      <td>State-gov</td>\n",
       "      <td>77516</td>\n",
       "      <td>Bachelors</td>\n",
       "      <td>13</td>\n",
       "      <td>Never-married</td>\n",
       "      <td>Adm-clerical</td>\n",
       "      <td>Not-in-family</td>\n",
       "      <td>White</td>\n",
       "      <td>Male</td>\n",
       "      <td>2174</td>\n",
       "      <td>0</td>\n",
       "      <td>40</td>\n",
       "      <td>United-States</td>\n",
       "      <td>&lt;=50K</td>\n",
       "    </tr>\n",
       "    <tr>\n",
       "      <th>1</th>\n",
       "      <td>1</td>\n",
       "      <td>50</td>\n",
       "      <td>Self-emp-not-inc</td>\n",
       "      <td>83311</td>\n",
       "      <td>Bachelors</td>\n",
       "      <td>13</td>\n",
       "      <td>Married-civ-spouse</td>\n",
       "      <td>Exec-managerial</td>\n",
       "      <td>Husband</td>\n",
       "      <td>White</td>\n",
       "      <td>Male</td>\n",
       "      <td>0</td>\n",
       "      <td>0</td>\n",
       "      <td>13</td>\n",
       "      <td>United-States</td>\n",
       "      <td>&lt;=50K</td>\n",
       "    </tr>\n",
       "    <tr>\n",
       "      <th>2</th>\n",
       "      <td>2</td>\n",
       "      <td>38</td>\n",
       "      <td>Private</td>\n",
       "      <td>215646</td>\n",
       "      <td>HS-grad</td>\n",
       "      <td>9</td>\n",
       "      <td>Divorced</td>\n",
       "      <td>Handlers-cleaners</td>\n",
       "      <td>Not-in-family</td>\n",
       "      <td>White</td>\n",
       "      <td>Male</td>\n",
       "      <td>0</td>\n",
       "      <td>0</td>\n",
       "      <td>40</td>\n",
       "      <td>United-States</td>\n",
       "      <td>&lt;=50K</td>\n",
       "    </tr>\n",
       "    <tr>\n",
       "      <th>4</th>\n",
       "      <td>4</td>\n",
       "      <td>28</td>\n",
       "      <td>Private</td>\n",
       "      <td>338409</td>\n",
       "      <td>Bachelors</td>\n",
       "      <td>13</td>\n",
       "      <td>Married-civ-spouse</td>\n",
       "      <td>Prof-specialty</td>\n",
       "      <td>Wife</td>\n",
       "      <td>Black</td>\n",
       "      <td>Female</td>\n",
       "      <td>0</td>\n",
       "      <td>0</td>\n",
       "      <td>40</td>\n",
       "      <td>Cuba</td>\n",
       "      <td>&lt;=50K</td>\n",
       "    </tr>\n",
       "    <tr>\n",
       "      <th>5</th>\n",
       "      <td>5</td>\n",
       "      <td>37</td>\n",
       "      <td>Private</td>\n",
       "      <td>284582</td>\n",
       "      <td>Masters</td>\n",
       "      <td>14</td>\n",
       "      <td>Married-civ-spouse</td>\n",
       "      <td>Exec-managerial</td>\n",
       "      <td>Wife</td>\n",
       "      <td>White</td>\n",
       "      <td>Female</td>\n",
       "      <td>0</td>\n",
       "      <td>0</td>\n",
       "      <td>40</td>\n",
       "      <td>United-States</td>\n",
       "      <td>&lt;=50K</td>\n",
       "    </tr>\n",
       "    <tr>\n",
       "      <th>...</th>\n",
       "      <td>...</td>\n",
       "      <td>...</td>\n",
       "      <td>...</td>\n",
       "      <td>...</td>\n",
       "      <td>...</td>\n",
       "      <td>...</td>\n",
       "      <td>...</td>\n",
       "      <td>...</td>\n",
       "      <td>...</td>\n",
       "      <td>...</td>\n",
       "      <td>...</td>\n",
       "      <td>...</td>\n",
       "      <td>...</td>\n",
       "      <td>...</td>\n",
       "      <td>...</td>\n",
       "      <td>...</td>\n",
       "    </tr>\n",
       "    <tr>\n",
       "      <th>32556</th>\n",
       "      <td>32556</td>\n",
       "      <td>27</td>\n",
       "      <td>Private</td>\n",
       "      <td>257302</td>\n",
       "      <td>Assoc-acdm</td>\n",
       "      <td>12</td>\n",
       "      <td>Married-civ-spouse</td>\n",
       "      <td>Tech-support</td>\n",
       "      <td>Wife</td>\n",
       "      <td>White</td>\n",
       "      <td>Female</td>\n",
       "      <td>0</td>\n",
       "      <td>0</td>\n",
       "      <td>38</td>\n",
       "      <td>United-States</td>\n",
       "      <td>&lt;=50K</td>\n",
       "    </tr>\n",
       "    <tr>\n",
       "      <th>32557</th>\n",
       "      <td>32557</td>\n",
       "      <td>40</td>\n",
       "      <td>Private</td>\n",
       "      <td>154374</td>\n",
       "      <td>HS-grad</td>\n",
       "      <td>9</td>\n",
       "      <td>Married-civ-spouse</td>\n",
       "      <td>Machine-op-inspct</td>\n",
       "      <td>Husband</td>\n",
       "      <td>White</td>\n",
       "      <td>Male</td>\n",
       "      <td>0</td>\n",
       "      <td>0</td>\n",
       "      <td>40</td>\n",
       "      <td>United-States</td>\n",
       "      <td>&gt;50K</td>\n",
       "    </tr>\n",
       "    <tr>\n",
       "      <th>32558</th>\n",
       "      <td>32558</td>\n",
       "      <td>58</td>\n",
       "      <td>Private</td>\n",
       "      <td>151910</td>\n",
       "      <td>HS-grad</td>\n",
       "      <td>9</td>\n",
       "      <td>Widowed</td>\n",
       "      <td>Adm-clerical</td>\n",
       "      <td>Unmarried</td>\n",
       "      <td>White</td>\n",
       "      <td>Female</td>\n",
       "      <td>0</td>\n",
       "      <td>0</td>\n",
       "      <td>40</td>\n",
       "      <td>United-States</td>\n",
       "      <td>&lt;=50K</td>\n",
       "    </tr>\n",
       "    <tr>\n",
       "      <th>32559</th>\n",
       "      <td>32559</td>\n",
       "      <td>22</td>\n",
       "      <td>Private</td>\n",
       "      <td>201490</td>\n",
       "      <td>HS-grad</td>\n",
       "      <td>9</td>\n",
       "      <td>Never-married</td>\n",
       "      <td>Adm-clerical</td>\n",
       "      <td>Own-child</td>\n",
       "      <td>White</td>\n",
       "      <td>Male</td>\n",
       "      <td>0</td>\n",
       "      <td>0</td>\n",
       "      <td>20</td>\n",
       "      <td>United-States</td>\n",
       "      <td>&lt;=50K</td>\n",
       "    </tr>\n",
       "    <tr>\n",
       "      <th>32560</th>\n",
       "      <td>32560</td>\n",
       "      <td>52</td>\n",
       "      <td>Self-emp-inc</td>\n",
       "      <td>287927</td>\n",
       "      <td>HS-grad</td>\n",
       "      <td>9</td>\n",
       "      <td>Married-civ-spouse</td>\n",
       "      <td>Exec-managerial</td>\n",
       "      <td>Wife</td>\n",
       "      <td>White</td>\n",
       "      <td>Female</td>\n",
       "      <td>15024</td>\n",
       "      <td>0</td>\n",
       "      <td>40</td>\n",
       "      <td>United-States</td>\n",
       "      <td>&gt;50K</td>\n",
       "    </tr>\n",
       "  </tbody>\n",
       "</table>\n",
       "<p>28308 rows × 16 columns</p>\n",
       "</div>"
      ],
      "text/plain": [
       "       Unnamed: 0  age          workclass  fnlwgt    education  education_num  \\\n",
       "0               0   39          State-gov   77516    Bachelors             13   \n",
       "1               1   50   Self-emp-not-inc   83311    Bachelors             13   \n",
       "2               2   38            Private  215646      HS-grad              9   \n",
       "4               4   28            Private  338409    Bachelors             13   \n",
       "5               5   37            Private  284582      Masters             14   \n",
       "...           ...  ...                ...     ...          ...            ...   \n",
       "32556       32556   27            Private  257302   Assoc-acdm             12   \n",
       "32557       32557   40            Private  154374      HS-grad              9   \n",
       "32558       32558   58            Private  151910      HS-grad              9   \n",
       "32559       32559   22            Private  201490      HS-grad              9   \n",
       "32560       32560   52       Self-emp-inc  287927      HS-grad              9   \n",
       "\n",
       "            marital_status          occupation    relationship    race  \\\n",
       "0            Never-married        Adm-clerical   Not-in-family   White   \n",
       "1       Married-civ-spouse     Exec-managerial         Husband   White   \n",
       "2                 Divorced   Handlers-cleaners   Not-in-family   White   \n",
       "4       Married-civ-spouse      Prof-specialty            Wife   Black   \n",
       "5       Married-civ-spouse     Exec-managerial            Wife   White   \n",
       "...                    ...                 ...             ...     ...   \n",
       "32556   Married-civ-spouse        Tech-support            Wife   White   \n",
       "32557   Married-civ-spouse   Machine-op-inspct         Husband   White   \n",
       "32558              Widowed        Adm-clerical       Unmarried   White   \n",
       "32559        Never-married        Adm-clerical       Own-child   White   \n",
       "32560   Married-civ-spouse     Exec-managerial            Wife   White   \n",
       "\n",
       "           sex  capital_gain  capital_loss  hours_per_week  native_country  \\\n",
       "0         Male          2174             0              40   United-States   \n",
       "1         Male             0             0              13   United-States   \n",
       "2         Male             0             0              40   United-States   \n",
       "4       Female             0             0              40            Cuba   \n",
       "5       Female             0             0              40   United-States   \n",
       "...        ...           ...           ...             ...             ...   \n",
       "32556   Female             0             0              38   United-States   \n",
       "32557     Male             0             0              40   United-States   \n",
       "32558   Female             0             0              40   United-States   \n",
       "32559     Male             0             0              20   United-States   \n",
       "32560   Female         15024             0              40   United-States   \n",
       "\n",
       "       income  \n",
       "0       <=50K  \n",
       "1       <=50K  \n",
       "2       <=50K  \n",
       "4       <=50K  \n",
       "5       <=50K  \n",
       "...       ...  \n",
       "32556   <=50K  \n",
       "32557    >50K  \n",
       "32558   <=50K  \n",
       "32559   <=50K  \n",
       "32560    >50K  \n",
       "\n",
       "[28308 rows x 16 columns]"
      ]
     },
     "execution_count": 46,
     "metadata": {},
     "output_type": "execute_result"
    }
   ],
   "source": [
    "# for lev in df_census_income[\"education\"].columns():\n",
    "#     print(f\"{df_census_income[lev]} has {df_census_income[lev].value_counts()} records.\")\n",
    "\n",
    "# df_census_income[\"education_num\"].value_counts().sort_index()\n",
    "\n",
    "# df_census_income[\"education_num\"].unique()\n",
    "df_census_income[df_census_income[\"education_num\"] > 8]"
   ]
  },
  {
   "cell_type": "code",
   "execution_count": 47,
   "id": "eef38678",
   "metadata": {},
   "outputs": [],
   "source": [
    "# df_census_income[\"capital_gain\"].value_counts().sort_index()"
   ]
  },
  {
   "cell_type": "code",
   "execution_count": 48,
   "id": "5f0c9894",
   "metadata": {},
   "outputs": [],
   "source": [
    "# dfci =  df_census_income.copy()"
   ]
  },
  {
   "cell_type": "code",
   "execution_count": 49,
   "id": "bccec502",
   "metadata": {},
   "outputs": [],
   "source": [
    "# dfci[]"
   ]
  },
  {
   "cell_type": "code",
   "execution_count": 50,
   "id": "f0ebef5d",
   "metadata": {},
   "outputs": [
    {
     "data": {
      "text/plain": [
       "<AxesSubplot:>"
      ]
     },
     "execution_count": 50,
     "metadata": {},
     "output_type": "execute_result"
    },
    {
     "data": {
      "image/png": "[encoded data removed]",
      "text/plain": [
       "<Figure size 432x288 with 1 Axes>"
      ]
     },
     "metadata": {
      "needs_background": "light"
     },
     "output_type": "display_data"
    }
   ],
   "source": [
    "#Step 9 - A quick box plot\n",
    "#\"You can create a box plot for any numerical column using a single line of code.\"\n",
    "\n",
    "# Boxplot\n",
    "\n",
    "df_census_income[[\"age\"]].boxplot()"
   ]
  },
  {
   "cell_type": "code",
   "execution_count": 51,
   "id": "d4dd7a1a",
   "metadata": {},
   "outputs": [
    {
     "data": {
      "text/plain": [
       "<AxesSubplot:>"
      ]
     },
     "execution_count": 51,
     "metadata": {},
     "output_type": "execute_result"
    },
    {
     "data": {
      "image/png": "[encoded data removed]",
      "text/plain": [
       "<Figure size 432x288 with 1 Axes>"
      ]
     },
     "metadata": {
      "needs_background": "light"
     },
     "output_type": "display_data"
    }
   ],
   "source": [
    "df_census_income[[\"fnlwgt\"]].boxplot()"
   ]
  },
  {
   "cell_type": "code",
   "execution_count": 52,
   "id": "f0ac8d4c",
   "metadata": {},
   "outputs": [
    {
     "data": {
      "text/plain": [
       "<AxesSubplot:>"
      ]
     },
     "execution_count": 52,
     "metadata": {},
     "output_type": "execute_result"
    },
    {
     "data": {
      "image/png": "[encoded data removed]",
      "text/plain": [
       "<Figure size 432x288 with 1 Axes>"
      ]
     },
     "metadata": {
      "needs_background": "light"
     },
     "output_type": "display_data"
    }
   ],
   "source": [
    "df_census_income[[\"education_num\"]].boxplot()"
   ]
  },
  {
   "cell_type": "code",
   "execution_count": 53,
   "id": "034e97a5",
   "metadata": {},
   "outputs": [
    {
     "data": {
      "text/plain": [
       "<AxesSubplot:>"
      ]
     },
     "execution_count": 53,
     "metadata": {},
     "output_type": "execute_result"
    },
    {
     "data": {
      "image/png": "[encoded data removed]",
      "text/plain": [
       "<Figure size 432x288 with 1 Axes>"
      ]
     },
     "metadata": {
      "needs_background": "light"
     },
     "output_type": "display_data"
    }
   ],
   "source": [
    "df_census_income[[\"capital_gain\"]].boxplot()"
   ]
  },
  {
   "cell_type": "code",
   "execution_count": 54,
   "id": "912510b9",
   "metadata": {},
   "outputs": [
    {
     "data": {
      "text/plain": [
       "<AxesSubplot:>"
      ]
     },
     "execution_count": 54,
     "metadata": {},
     "output_type": "execute_result"
    },
    {
     "data": {
      "image/png": "[encoded data removed]",
      "text/plain": [
       "<Figure size 432x288 with 1 Axes>"
      ]
     },
     "metadata": {
      "needs_background": "light"
     },
     "output_type": "display_data"
    }
   ],
   "source": [
    "df_census_income[[\"capital_loss\"]].boxplot()"
   ]
  },
  {
   "cell_type": "code",
   "execution_count": 55,
   "id": "f1899866",
   "metadata": {},
   "outputs": [
    {
     "data": {
      "text/plain": [
       "<AxesSubplot:>"
      ]
     },
     "execution_count": 55,
     "metadata": {},
     "output_type": "execute_result"
    },
    {
     "data": {
      "image/png": "[encoded data removed]",
      "text/plain": [
       "<Figure size 432x288 with 1 Axes>"
      ]
     },
     "metadata": {
      "needs_background": "light"
     },
     "output_type": "display_data"
    }
   ],
   "source": [
    "df_census_income[[\"hours_per_week\"]].boxplot()"
   ]
  },
  {
   "cell_type": "code",
   "execution_count": 56,
   "id": "ac705f83",
   "metadata": {},
   "outputs": [
    {
     "data": {
      "text/html": [
       "<div>\n",
       "<style scoped>\n",
       "    .dataframe tbody tr th:only-of-type {\n",
       "        vertical-align: middle;\n",
       "    }\n",
       "\n",
       "    .dataframe tbody tr th {\n",
       "        vertical-align: top;\n",
       "    }\n",
       "\n",
       "    .dataframe thead th {\n",
       "        text-align: right;\n",
       "    }\n",
       "</style>\n",
       "<table border=\"1\" class=\"dataframe\">\n",
       "  <thead>\n",
       "    <tr style=\"text-align: right;\">\n",
       "      <th></th>\n",
       "      <th>Unnamed: 0</th>\n",
       "      <th>age</th>\n",
       "      <th>fnlwgt</th>\n",
       "      <th>education_num</th>\n",
       "      <th>capital_gain</th>\n",
       "      <th>capital_loss</th>\n",
       "      <th>hours_per_week</th>\n",
       "    </tr>\n",
       "  </thead>\n",
       "  <tbody>\n",
       "    <tr>\n",
       "      <th>Unnamed: 0</th>\n",
       "      <td>1.000000</td>\n",
       "      <td>0.001286</td>\n",
       "      <td>-0.003153</td>\n",
       "      <td>-0.001079</td>\n",
       "      <td>0.001672</td>\n",
       "      <td>-0.001188</td>\n",
       "      <td>0.000607</td>\n",
       "    </tr>\n",
       "    <tr>\n",
       "      <th>age</th>\n",
       "      <td>0.001286</td>\n",
       "      <td>1.000000</td>\n",
       "      <td>-0.076646</td>\n",
       "      <td>0.036527</td>\n",
       "      <td>0.077674</td>\n",
       "      <td>0.057775</td>\n",
       "      <td>0.068756</td>\n",
       "    </tr>\n",
       "    <tr>\n",
       "      <th>fnlwgt</th>\n",
       "      <td>-0.003153</td>\n",
       "      <td>-0.076646</td>\n",
       "      <td>1.000000</td>\n",
       "      <td>-0.043195</td>\n",
       "      <td>0.000432</td>\n",
       "      <td>-0.010252</td>\n",
       "      <td>-0.018768</td>\n",
       "    </tr>\n",
       "    <tr>\n",
       "      <th>education_num</th>\n",
       "      <td>-0.001079</td>\n",
       "      <td>0.036527</td>\n",
       "      <td>-0.043195</td>\n",
       "      <td>1.000000</td>\n",
       "      <td>0.122630</td>\n",
       "      <td>0.079923</td>\n",
       "      <td>0.148123</td>\n",
       "    </tr>\n",
       "    <tr>\n",
       "      <th>capital_gain</th>\n",
       "      <td>0.001672</td>\n",
       "      <td>0.077674</td>\n",
       "      <td>0.000432</td>\n",
       "      <td>0.122630</td>\n",
       "      <td>1.000000</td>\n",
       "      <td>-0.031615</td>\n",
       "      <td>0.078409</td>\n",
       "    </tr>\n",
       "    <tr>\n",
       "      <th>capital_loss</th>\n",
       "      <td>-0.001188</td>\n",
       "      <td>0.057775</td>\n",
       "      <td>-0.010252</td>\n",
       "      <td>0.079923</td>\n",
       "      <td>-0.031615</td>\n",
       "      <td>1.000000</td>\n",
       "      <td>0.054256</td>\n",
       "    </tr>\n",
       "    <tr>\n",
       "      <th>hours_per_week</th>\n",
       "      <td>0.000607</td>\n",
       "      <td>0.068756</td>\n",
       "      <td>-0.018768</td>\n",
       "      <td>0.148123</td>\n",
       "      <td>0.078409</td>\n",
       "      <td>0.054256</td>\n",
       "      <td>1.000000</td>\n",
       "    </tr>\n",
       "  </tbody>\n",
       "</table>\n",
       "</div>"
      ],
      "text/plain": [
       "                Unnamed: 0       age    fnlwgt  education_num  capital_gain  \\\n",
       "Unnamed: 0        1.000000  0.001286 -0.003153      -0.001079      0.001672   \n",
       "age               0.001286  1.000000 -0.076646       0.036527      0.077674   \n",
       "fnlwgt           -0.003153 -0.076646  1.000000      -0.043195      0.000432   \n",
       "education_num    -0.001079  0.036527 -0.043195       1.000000      0.122630   \n",
       "capital_gain      0.001672  0.077674  0.000432       0.122630      1.000000   \n",
       "capital_loss     -0.001188  0.057775 -0.010252       0.079923     -0.031615   \n",
       "hours_per_week    0.000607  0.068756 -0.018768       0.148123      0.078409   \n",
       "\n",
       "                capital_loss  hours_per_week  \n",
       "Unnamed: 0         -0.001188        0.000607  \n",
       "age                 0.057775        0.068756  \n",
       "fnlwgt             -0.010252       -0.018768  \n",
       "education_num       0.079923        0.148123  \n",
       "capital_gain       -0.031615        0.078409  \n",
       "capital_loss        1.000000        0.054256  \n",
       "hours_per_week      0.054256        1.000000  "
      ]
     },
     "execution_count": 56,
     "metadata": {},
     "output_type": "execute_result"
    }
   ],
   "source": [
    "#Step 10 - Correlation Plot - EDA\n",
    "#Can find \"fair idea of the correlation strength between different variables.\"\n",
    "\n",
    "# Correlation\n",
    "\n",
    "df_census_income.corr()"
   ]
  },
  {
   "cell_type": "code",
   "execution_count": 57,
   "id": "ecbf7e3a",
   "metadata": {},
   "outputs": [],
   "source": [
    "# if df_census_income[\"income_grp\"] == \">50K\":\n",
    "#     df_census_income[\"income_lev\"] = 1\n",
    "# else:\n",
    "#     df_census_income[\"income_lev\"] = 0\n",
    "\n",
    "# see code block below for using a lambda function instead ..."
   ]
  },
  {
   "cell_type": "code",
   "execution_count": 58,
   "id": "4bde4c4b",
   "metadata": {},
   "outputs": [],
   "source": [
    "# Use lambda function to create new numerical column for a correlation\n",
    "\n",
    "# https://www.geeksforgeeks.org/using-apply-in-pandas-lambda-functions-with-multiple-if-statements/\n",
    "# Adding the \"income_lev\" column\n",
    "# df_census_income[\"income_lev\"] = df_census_income[\"income_grp\"].apply(lambda x: 1 if x==\">50K\" else 0)\n",
    "\n",
    "df_census_income[\"income_lev\"] = df_census_income[\"income\"].apply(lambda x: 1 if x==\">50K\" else 0)"
   ]
  },
  {
   "cell_type": "code",
   "execution_count": 59,
   "id": "457fb1bf",
   "metadata": {},
   "outputs": [
    {
     "data": {
      "text/html": [
       "<div>\n",
       "<style scoped>\n",
       "    .dataframe tbody tr th:only-of-type {\n",
       "        vertical-align: middle;\n",
       "    }\n",
       "\n",
       "    .dataframe tbody tr th {\n",
       "        vertical-align: top;\n",
       "    }\n",
       "\n",
       "    .dataframe thead th {\n",
       "        text-align: right;\n",
       "    }\n",
       "</style>\n",
       "<table border=\"1\" class=\"dataframe\">\n",
       "  <thead>\n",
       "    <tr style=\"text-align: right;\">\n",
       "      <th></th>\n",
       "      <th>Unnamed: 0</th>\n",
       "      <th>age</th>\n",
       "      <th>fnlwgt</th>\n",
       "      <th>education_num</th>\n",
       "      <th>capital_gain</th>\n",
       "      <th>capital_loss</th>\n",
       "      <th>hours_per_week</th>\n",
       "      <th>income_lev</th>\n",
       "    </tr>\n",
       "  </thead>\n",
       "  <tbody>\n",
       "    <tr>\n",
       "      <th>Unnamed: 0</th>\n",
       "      <td>1.000000</td>\n",
       "      <td>0.001286</td>\n",
       "      <td>-0.003153</td>\n",
       "      <td>-0.001079</td>\n",
       "      <td>0.001672</td>\n",
       "      <td>-0.001188</td>\n",
       "      <td>0.000607</td>\n",
       "      <td>NaN</td>\n",
       "    </tr>\n",
       "    <tr>\n",
       "      <th>age</th>\n",
       "      <td>0.001286</td>\n",
       "      <td>1.000000</td>\n",
       "      <td>-0.076646</td>\n",
       "      <td>0.036527</td>\n",
       "      <td>0.077674</td>\n",
       "      <td>0.057775</td>\n",
       "      <td>0.068756</td>\n",
       "      <td>NaN</td>\n",
       "    </tr>\n",
       "    <tr>\n",
       "      <th>fnlwgt</th>\n",
       "      <td>-0.003153</td>\n",
       "      <td>-0.076646</td>\n",
       "      <td>1.000000</td>\n",
       "      <td>-0.043195</td>\n",
       "      <td>0.000432</td>\n",
       "      <td>-0.010252</td>\n",
       "      <td>-0.018768</td>\n",
       "      <td>NaN</td>\n",
       "    </tr>\n",
       "    <tr>\n",
       "      <th>education_num</th>\n",
       "      <td>-0.001079</td>\n",
       "      <td>0.036527</td>\n",
       "      <td>-0.043195</td>\n",
       "      <td>1.000000</td>\n",
       "      <td>0.122630</td>\n",
       "      <td>0.079923</td>\n",
       "      <td>0.148123</td>\n",
       "      <td>NaN</td>\n",
       "    </tr>\n",
       "    <tr>\n",
       "      <th>capital_gain</th>\n",
       "      <td>0.001672</td>\n",
       "      <td>0.077674</td>\n",
       "      <td>0.000432</td>\n",
       "      <td>0.122630</td>\n",
       "      <td>1.000000</td>\n",
       "      <td>-0.031615</td>\n",
       "      <td>0.078409</td>\n",
       "      <td>NaN</td>\n",
       "    </tr>\n",
       "    <tr>\n",
       "      <th>capital_loss</th>\n",
       "      <td>-0.001188</td>\n",
       "      <td>0.057775</td>\n",
       "      <td>-0.010252</td>\n",
       "      <td>0.079923</td>\n",
       "      <td>-0.031615</td>\n",
       "      <td>1.000000</td>\n",
       "      <td>0.054256</td>\n",
       "      <td>NaN</td>\n",
       "    </tr>\n",
       "    <tr>\n",
       "      <th>hours_per_week</th>\n",
       "      <td>0.000607</td>\n",
       "      <td>0.068756</td>\n",
       "      <td>-0.018768</td>\n",
       "      <td>0.148123</td>\n",
       "      <td>0.078409</td>\n",
       "      <td>0.054256</td>\n",
       "      <td>1.000000</td>\n",
       "      <td>NaN</td>\n",
       "    </tr>\n",
       "    <tr>\n",
       "      <th>income_lev</th>\n",
       "      <td>NaN</td>\n",
       "      <td>NaN</td>\n",
       "      <td>NaN</td>\n",
       "      <td>NaN</td>\n",
       "      <td>NaN</td>\n",
       "      <td>NaN</td>\n",
       "      <td>NaN</td>\n",
       "      <td>NaN</td>\n",
       "    </tr>\n",
       "  </tbody>\n",
       "</table>\n",
       "</div>"
      ],
      "text/plain": [
       "                Unnamed: 0       age    fnlwgt  education_num  capital_gain  \\\n",
       "Unnamed: 0        1.000000  0.001286 -0.003153      -0.001079      0.001672   \n",
       "age               0.001286  1.000000 -0.076646       0.036527      0.077674   \n",
       "fnlwgt           -0.003153 -0.076646  1.000000      -0.043195      0.000432   \n",
       "education_num    -0.001079  0.036527 -0.043195       1.000000      0.122630   \n",
       "capital_gain      0.001672  0.077674  0.000432       0.122630      1.000000   \n",
       "capital_loss     -0.001188  0.057775 -0.010252       0.079923     -0.031615   \n",
       "hours_per_week    0.000607  0.068756 -0.018768       0.148123      0.078409   \n",
       "income_lev             NaN       NaN       NaN            NaN           NaN   \n",
       "\n",
       "                capital_loss  hours_per_week  income_lev  \n",
       "Unnamed: 0         -0.001188        0.000607         NaN  \n",
       "age                 0.057775        0.068756         NaN  \n",
       "fnlwgt             -0.010252       -0.018768         NaN  \n",
       "education_num       0.079923        0.148123         NaN  \n",
       "capital_gain       -0.031615        0.078409         NaN  \n",
       "capital_loss        1.000000        0.054256         NaN  \n",
       "hours_per_week      0.054256        1.000000         NaN  \n",
       "income_lev               NaN             NaN         NaN  "
      ]
     },
     "execution_count": 59,
     "metadata": {},
     "output_type": "execute_result"
    }
   ],
   "source": [
    "# Rerun a correlation with new numerical column\n",
    "df_census_income.corr()\n",
    "\n",
    "# The correlation matrix ranges from +1 to -1; where +1 represents highly and\n",
    "# positively correlated and -1 will be highly negatively correlated."
   ]
  },
  {
   "cell_type": "code",
   "execution_count": null,
   "id": "6fc51b19",
   "metadata": {},
   "outputs": [],
   "source": []
  },
  {
   "cell_type": "code",
   "execution_count": null,
   "id": "14a16e5f",
   "metadata": {},
   "outputs": [],
   "source": []
  },
  {
   "cell_type": "code",
   "execution_count": null,
   "id": "4772dac5",
   "metadata": {},
   "outputs": [],
   "source": []
  },
  {
   "cell_type": "code",
   "execution_count": 60,
   "id": "38ac90af",
   "metadata": {},
   "outputs": [
    {
     "data": {
      "text/plain": [
       "<AxesSubplot:>"
      ]
     },
     "execution_count": 60,
     "metadata": {},
     "output_type": "execute_result"
    },
    {
     "data": {
      "image/png": "[encoded data removed]",
      "text/plain": [
       "<Figure size 432x288 with 2 Axes>"
      ]
     },
     "metadata": {
      "needs_background": "light"
     },
     "output_type": "display_data"
    }
   ],
   "source": [
    "#\"Visualize the correlation matrix usng *seaborn library* ...\n",
    "\n",
    "# Correlation plot\n",
    "\n",
    "sns.heatmap(df_census_income.corr())"
   ]
  },
  {
   "cell_type": "code",
   "execution_count": 61,
   "id": "6cf5f674",
   "metadata": {},
   "outputs": [
    {
     "data": {
      "text/html": [
       "<div>\n",
       "<style scoped>\n",
       "    .dataframe tbody tr th:only-of-type {\n",
       "        vertical-align: middle;\n",
       "    }\n",
       "\n",
       "    .dataframe tbody tr th {\n",
       "        vertical-align: top;\n",
       "    }\n",
       "\n",
       "    .dataframe thead th {\n",
       "        text-align: right;\n",
       "    }\n",
       "</style>\n",
       "<table border=\"1\" class=\"dataframe\">\n",
       "  <thead>\n",
       "    <tr style=\"text-align: right;\">\n",
       "      <th></th>\n",
       "      <th>Unnamed: 0</th>\n",
       "      <th>age</th>\n",
       "      <th>workclass</th>\n",
       "      <th>fnlwgt</th>\n",
       "      <th>education</th>\n",
       "      <th>education_num</th>\n",
       "      <th>marital_status</th>\n",
       "      <th>occupation</th>\n",
       "      <th>relationship</th>\n",
       "      <th>race</th>\n",
       "      <th>sex</th>\n",
       "      <th>capital_gain</th>\n",
       "      <th>capital_loss</th>\n",
       "      <th>hours_per_week</th>\n",
       "      <th>native_country</th>\n",
       "      <th>income</th>\n",
       "      <th>income_lev</th>\n",
       "    </tr>\n",
       "  </thead>\n",
       "  <tbody>\n",
       "    <tr>\n",
       "      <th>0</th>\n",
       "      <td>0</td>\n",
       "      <td>39</td>\n",
       "      <td>State-gov</td>\n",
       "      <td>77516</td>\n",
       "      <td>Bachelors</td>\n",
       "      <td>13</td>\n",
       "      <td>Never-married</td>\n",
       "      <td>Adm-clerical</td>\n",
       "      <td>Not-in-family</td>\n",
       "      <td>White</td>\n",
       "      <td>Male</td>\n",
       "      <td>2174</td>\n",
       "      <td>0</td>\n",
       "      <td>40</td>\n",
       "      <td>United-States</td>\n",
       "      <td>&lt;=50K</td>\n",
       "      <td>0</td>\n",
       "    </tr>\n",
       "    <tr>\n",
       "      <th>1</th>\n",
       "      <td>1</td>\n",
       "      <td>50</td>\n",
       "      <td>Self-emp-not-inc</td>\n",
       "      <td>83311</td>\n",
       "      <td>Bachelors</td>\n",
       "      <td>13</td>\n",
       "      <td>Married-civ-spouse</td>\n",
       "      <td>Exec-managerial</td>\n",
       "      <td>Husband</td>\n",
       "      <td>White</td>\n",
       "      <td>Male</td>\n",
       "      <td>0</td>\n",
       "      <td>0</td>\n",
       "      <td>13</td>\n",
       "      <td>United-States</td>\n",
       "      <td>&lt;=50K</td>\n",
       "      <td>0</td>\n",
       "    </tr>\n",
       "    <tr>\n",
       "      <th>2</th>\n",
       "      <td>2</td>\n",
       "      <td>38</td>\n",
       "      <td>Private</td>\n",
       "      <td>215646</td>\n",
       "      <td>HS-grad</td>\n",
       "      <td>9</td>\n",
       "      <td>Divorced</td>\n",
       "      <td>Handlers-cleaners</td>\n",
       "      <td>Not-in-family</td>\n",
       "      <td>White</td>\n",
       "      <td>Male</td>\n",
       "      <td>0</td>\n",
       "      <td>0</td>\n",
       "      <td>40</td>\n",
       "      <td>United-States</td>\n",
       "      <td>&lt;=50K</td>\n",
       "      <td>0</td>\n",
       "    </tr>\n",
       "    <tr>\n",
       "      <th>3</th>\n",
       "      <td>3</td>\n",
       "      <td>53</td>\n",
       "      <td>Private</td>\n",
       "      <td>234721</td>\n",
       "      <td>11th</td>\n",
       "      <td>7</td>\n",
       "      <td>Married-civ-spouse</td>\n",
       "      <td>Handlers-cleaners</td>\n",
       "      <td>Husband</td>\n",
       "      <td>Black</td>\n",
       "      <td>Male</td>\n",
       "      <td>0</td>\n",
       "      <td>0</td>\n",
       "      <td>40</td>\n",
       "      <td>United-States</td>\n",
       "      <td>&lt;=50K</td>\n",
       "      <td>0</td>\n",
       "    </tr>\n",
       "    <tr>\n",
       "      <th>4</th>\n",
       "      <td>4</td>\n",
       "      <td>28</td>\n",
       "      <td>Private</td>\n",
       "      <td>338409</td>\n",
       "      <td>Bachelors</td>\n",
       "      <td>13</td>\n",
       "      <td>Married-civ-spouse</td>\n",
       "      <td>Prof-specialty</td>\n",
       "      <td>Wife</td>\n",
       "      <td>Black</td>\n",
       "      <td>Female</td>\n",
       "      <td>0</td>\n",
       "      <td>0</td>\n",
       "      <td>40</td>\n",
       "      <td>Cuba</td>\n",
       "      <td>&lt;=50K</td>\n",
       "      <td>0</td>\n",
       "    </tr>\n",
       "    <tr>\n",
       "      <th>5</th>\n",
       "      <td>5</td>\n",
       "      <td>37</td>\n",
       "      <td>Private</td>\n",
       "      <td>284582</td>\n",
       "      <td>Masters</td>\n",
       "      <td>14</td>\n",
       "      <td>Married-civ-spouse</td>\n",
       "      <td>Exec-managerial</td>\n",
       "      <td>Wife</td>\n",
       "      <td>White</td>\n",
       "      <td>Female</td>\n",
       "      <td>0</td>\n",
       "      <td>0</td>\n",
       "      <td>40</td>\n",
       "      <td>United-States</td>\n",
       "      <td>&lt;=50K</td>\n",
       "      <td>0</td>\n",
       "    </tr>\n",
       "    <tr>\n",
       "      <th>6</th>\n",
       "      <td>6</td>\n",
       "      <td>49</td>\n",
       "      <td>Private</td>\n",
       "      <td>160187</td>\n",
       "      <td>9th</td>\n",
       "      <td>5</td>\n",
       "      <td>Married-spouse-absent</td>\n",
       "      <td>Other-service</td>\n",
       "      <td>Not-in-family</td>\n",
       "      <td>Black</td>\n",
       "      <td>Female</td>\n",
       "      <td>0</td>\n",
       "      <td>0</td>\n",
       "      <td>16</td>\n",
       "      <td>Jamaica</td>\n",
       "      <td>&lt;=50K</td>\n",
       "      <td>0</td>\n",
       "    </tr>\n",
       "    <tr>\n",
       "      <th>7</th>\n",
       "      <td>7</td>\n",
       "      <td>52</td>\n",
       "      <td>Self-emp-not-inc</td>\n",
       "      <td>209642</td>\n",
       "      <td>HS-grad</td>\n",
       "      <td>9</td>\n",
       "      <td>Married-civ-spouse</td>\n",
       "      <td>Exec-managerial</td>\n",
       "      <td>Husband</td>\n",
       "      <td>White</td>\n",
       "      <td>Male</td>\n",
       "      <td>0</td>\n",
       "      <td>0</td>\n",
       "      <td>45</td>\n",
       "      <td>United-States</td>\n",
       "      <td>&gt;50K</td>\n",
       "      <td>0</td>\n",
       "    </tr>\n",
       "    <tr>\n",
       "      <th>8</th>\n",
       "      <td>8</td>\n",
       "      <td>31</td>\n",
       "      <td>Private</td>\n",
       "      <td>45781</td>\n",
       "      <td>Masters</td>\n",
       "      <td>14</td>\n",
       "      <td>Never-married</td>\n",
       "      <td>Prof-specialty</td>\n",
       "      <td>Not-in-family</td>\n",
       "      <td>White</td>\n",
       "      <td>Female</td>\n",
       "      <td>14084</td>\n",
       "      <td>0</td>\n",
       "      <td>50</td>\n",
       "      <td>United-States</td>\n",
       "      <td>&gt;50K</td>\n",
       "      <td>0</td>\n",
       "    </tr>\n",
       "    <tr>\n",
       "      <th>9</th>\n",
       "      <td>9</td>\n",
       "      <td>42</td>\n",
       "      <td>Private</td>\n",
       "      <td>159449</td>\n",
       "      <td>Bachelors</td>\n",
       "      <td>13</td>\n",
       "      <td>Married-civ-spouse</td>\n",
       "      <td>Exec-managerial</td>\n",
       "      <td>Husband</td>\n",
       "      <td>White</td>\n",
       "      <td>Male</td>\n",
       "      <td>5178</td>\n",
       "      <td>0</td>\n",
       "      <td>40</td>\n",
       "      <td>United-States</td>\n",
       "      <td>&gt;50K</td>\n",
       "      <td>0</td>\n",
       "    </tr>\n",
       "    <tr>\n",
       "      <th>10</th>\n",
       "      <td>10</td>\n",
       "      <td>37</td>\n",
       "      <td>Private</td>\n",
       "      <td>280464</td>\n",
       "      <td>Some-college</td>\n",
       "      <td>10</td>\n",
       "      <td>Married-civ-spouse</td>\n",
       "      <td>Exec-managerial</td>\n",
       "      <td>Husband</td>\n",
       "      <td>Black</td>\n",
       "      <td>Male</td>\n",
       "      <td>0</td>\n",
       "      <td>0</td>\n",
       "      <td>80</td>\n",
       "      <td>United-States</td>\n",
       "      <td>&gt;50K</td>\n",
       "      <td>0</td>\n",
       "    </tr>\n",
       "    <tr>\n",
       "      <th>11</th>\n",
       "      <td>11</td>\n",
       "      <td>30</td>\n",
       "      <td>State-gov</td>\n",
       "      <td>141297</td>\n",
       "      <td>Bachelors</td>\n",
       "      <td>13</td>\n",
       "      <td>Married-civ-spouse</td>\n",
       "      <td>Prof-specialty</td>\n",
       "      <td>Husband</td>\n",
       "      <td>Asian-Pac-Islander</td>\n",
       "      <td>Male</td>\n",
       "      <td>0</td>\n",
       "      <td>0</td>\n",
       "      <td>40</td>\n",
       "      <td>India</td>\n",
       "      <td>&gt;50K</td>\n",
       "      <td>0</td>\n",
       "    </tr>\n",
       "    <tr>\n",
       "      <th>12</th>\n",
       "      <td>12</td>\n",
       "      <td>23</td>\n",
       "      <td>Private</td>\n",
       "      <td>122272</td>\n",
       "      <td>Bachelors</td>\n",
       "      <td>13</td>\n",
       "      <td>Never-married</td>\n",
       "      <td>Adm-clerical</td>\n",
       "      <td>Own-child</td>\n",
       "      <td>White</td>\n",
       "      <td>Female</td>\n",
       "      <td>0</td>\n",
       "      <td>0</td>\n",
       "      <td>30</td>\n",
       "      <td>United-States</td>\n",
       "      <td>&lt;=50K</td>\n",
       "      <td>0</td>\n",
       "    </tr>\n",
       "    <tr>\n",
       "      <th>13</th>\n",
       "      <td>13</td>\n",
       "      <td>32</td>\n",
       "      <td>Private</td>\n",
       "      <td>205019</td>\n",
       "      <td>Assoc-acdm</td>\n",
       "      <td>12</td>\n",
       "      <td>Never-married</td>\n",
       "      <td>Sales</td>\n",
       "      <td>Not-in-family</td>\n",
       "      <td>Black</td>\n",
       "      <td>Male</td>\n",
       "      <td>0</td>\n",
       "      <td>0</td>\n",
       "      <td>50</td>\n",
       "      <td>United-States</td>\n",
       "      <td>&lt;=50K</td>\n",
       "      <td>0</td>\n",
       "    </tr>\n",
       "    <tr>\n",
       "      <th>14</th>\n",
       "      <td>14</td>\n",
       "      <td>40</td>\n",
       "      <td>Private</td>\n",
       "      <td>121772</td>\n",
       "      <td>Assoc-voc</td>\n",
       "      <td>11</td>\n",
       "      <td>Married-civ-spouse</td>\n",
       "      <td>Craft-repair</td>\n",
       "      <td>Husband</td>\n",
       "      <td>Asian-Pac-Islander</td>\n",
       "      <td>Male</td>\n",
       "      <td>0</td>\n",
       "      <td>0</td>\n",
       "      <td>40</td>\n",
       "      <td>?</td>\n",
       "      <td>&gt;50K</td>\n",
       "      <td>0</td>\n",
       "    </tr>\n",
       "    <tr>\n",
       "      <th>15</th>\n",
       "      <td>15</td>\n",
       "      <td>34</td>\n",
       "      <td>Private</td>\n",
       "      <td>245487</td>\n",
       "      <td>7th-8th</td>\n",
       "      <td>4</td>\n",
       "      <td>Married-civ-spouse</td>\n",
       "      <td>Transport-moving</td>\n",
       "      <td>Husband</td>\n",
       "      <td>Amer-Indian-Eskimo</td>\n",
       "      <td>Male</td>\n",
       "      <td>0</td>\n",
       "      <td>0</td>\n",
       "      <td>45</td>\n",
       "      <td>Mexico</td>\n",
       "      <td>&lt;=50K</td>\n",
       "      <td>0</td>\n",
       "    </tr>\n",
       "    <tr>\n",
       "      <th>16</th>\n",
       "      <td>16</td>\n",
       "      <td>25</td>\n",
       "      <td>Self-emp-not-inc</td>\n",
       "      <td>176756</td>\n",
       "      <td>HS-grad</td>\n",
       "      <td>9</td>\n",
       "      <td>Never-married</td>\n",
       "      <td>Farming-fishing</td>\n",
       "      <td>Own-child</td>\n",
       "      <td>White</td>\n",
       "      <td>Male</td>\n",
       "      <td>0</td>\n",
       "      <td>0</td>\n",
       "      <td>35</td>\n",
       "      <td>United-States</td>\n",
       "      <td>&lt;=50K</td>\n",
       "      <td>0</td>\n",
       "    </tr>\n",
       "    <tr>\n",
       "      <th>17</th>\n",
       "      <td>17</td>\n",
       "      <td>32</td>\n",
       "      <td>Private</td>\n",
       "      <td>186824</td>\n",
       "      <td>HS-grad</td>\n",
       "      <td>9</td>\n",
       "      <td>Never-married</td>\n",
       "      <td>Machine-op-inspct</td>\n",
       "      <td>Unmarried</td>\n",
       "      <td>White</td>\n",
       "      <td>Male</td>\n",
       "      <td>0</td>\n",
       "      <td>0</td>\n",
       "      <td>40</td>\n",
       "      <td>United-States</td>\n",
       "      <td>&lt;=50K</td>\n",
       "      <td>0</td>\n",
       "    </tr>\n",
       "    <tr>\n",
       "      <th>18</th>\n",
       "      <td>18</td>\n",
       "      <td>38</td>\n",
       "      <td>Private</td>\n",
       "      <td>28887</td>\n",
       "      <td>11th</td>\n",
       "      <td>7</td>\n",
       "      <td>Married-civ-spouse</td>\n",
       "      <td>Sales</td>\n",
       "      <td>Husband</td>\n",
       "      <td>White</td>\n",
       "      <td>Male</td>\n",
       "      <td>0</td>\n",
       "      <td>0</td>\n",
       "      <td>50</td>\n",
       "      <td>United-States</td>\n",
       "      <td>&lt;=50K</td>\n",
       "      <td>0</td>\n",
       "    </tr>\n",
       "    <tr>\n",
       "      <th>19</th>\n",
       "      <td>19</td>\n",
       "      <td>43</td>\n",
       "      <td>Self-emp-not-inc</td>\n",
       "      <td>292175</td>\n",
       "      <td>Masters</td>\n",
       "      <td>14</td>\n",
       "      <td>Divorced</td>\n",
       "      <td>Exec-managerial</td>\n",
       "      <td>Unmarried</td>\n",
       "      <td>White</td>\n",
       "      <td>Female</td>\n",
       "      <td>0</td>\n",
       "      <td>0</td>\n",
       "      <td>45</td>\n",
       "      <td>United-States</td>\n",
       "      <td>&gt;50K</td>\n",
       "      <td>0</td>\n",
       "    </tr>\n",
       "    <tr>\n",
       "      <th>20</th>\n",
       "      <td>20</td>\n",
       "      <td>40</td>\n",
       "      <td>Private</td>\n",
       "      <td>193524</td>\n",
       "      <td>Doctorate</td>\n",
       "      <td>16</td>\n",
       "      <td>Married-civ-spouse</td>\n",
       "      <td>Prof-specialty</td>\n",
       "      <td>Husband</td>\n",
       "      <td>White</td>\n",
       "      <td>Male</td>\n",
       "      <td>0</td>\n",
       "      <td>0</td>\n",
       "      <td>60</td>\n",
       "      <td>United-States</td>\n",
       "      <td>&gt;50K</td>\n",
       "      <td>0</td>\n",
       "    </tr>\n",
       "    <tr>\n",
       "      <th>21</th>\n",
       "      <td>21</td>\n",
       "      <td>54</td>\n",
       "      <td>Private</td>\n",
       "      <td>302146</td>\n",
       "      <td>HS-grad</td>\n",
       "      <td>9</td>\n",
       "      <td>Separated</td>\n",
       "      <td>Other-service</td>\n",
       "      <td>Unmarried</td>\n",
       "      <td>Black</td>\n",
       "      <td>Female</td>\n",
       "      <td>0</td>\n",
       "      <td>0</td>\n",
       "      <td>20</td>\n",
       "      <td>United-States</td>\n",
       "      <td>&lt;=50K</td>\n",
       "      <td>0</td>\n",
       "    </tr>\n",
       "    <tr>\n",
       "      <th>22</th>\n",
       "      <td>22</td>\n",
       "      <td>35</td>\n",
       "      <td>Federal-gov</td>\n",
       "      <td>76845</td>\n",
       "      <td>9th</td>\n",
       "      <td>5</td>\n",
       "      <td>Married-civ-spouse</td>\n",
       "      <td>Farming-fishing</td>\n",
       "      <td>Husband</td>\n",
       "      <td>Black</td>\n",
       "      <td>Male</td>\n",
       "      <td>0</td>\n",
       "      <td>0</td>\n",
       "      <td>40</td>\n",
       "      <td>United-States</td>\n",
       "      <td>&lt;=50K</td>\n",
       "      <td>0</td>\n",
       "    </tr>\n",
       "    <tr>\n",
       "      <th>23</th>\n",
       "      <td>23</td>\n",
       "      <td>43</td>\n",
       "      <td>Private</td>\n",
       "      <td>117037</td>\n",
       "      <td>11th</td>\n",
       "      <td>7</td>\n",
       "      <td>Married-civ-spouse</td>\n",
       "      <td>Transport-moving</td>\n",
       "      <td>Husband</td>\n",
       "      <td>White</td>\n",
       "      <td>Male</td>\n",
       "      <td>0</td>\n",
       "      <td>2042</td>\n",
       "      <td>40</td>\n",
       "      <td>United-States</td>\n",
       "      <td>&lt;=50K</td>\n",
       "      <td>0</td>\n",
       "    </tr>\n",
       "    <tr>\n",
       "      <th>24</th>\n",
       "      <td>24</td>\n",
       "      <td>59</td>\n",
       "      <td>Private</td>\n",
       "      <td>109015</td>\n",
       "      <td>HS-grad</td>\n",
       "      <td>9</td>\n",
       "      <td>Divorced</td>\n",
       "      <td>Tech-support</td>\n",
       "      <td>Unmarried</td>\n",
       "      <td>White</td>\n",
       "      <td>Female</td>\n",
       "      <td>0</td>\n",
       "      <td>0</td>\n",
       "      <td>40</td>\n",
       "      <td>United-States</td>\n",
       "      <td>&lt;=50K</td>\n",
       "      <td>0</td>\n",
       "    </tr>\n",
       "    <tr>\n",
       "      <th>25</th>\n",
       "      <td>25</td>\n",
       "      <td>56</td>\n",
       "      <td>Local-gov</td>\n",
       "      <td>216851</td>\n",
       "      <td>Bachelors</td>\n",
       "      <td>13</td>\n",
       "      <td>Married-civ-spouse</td>\n",
       "      <td>Tech-support</td>\n",
       "      <td>Husband</td>\n",
       "      <td>White</td>\n",
       "      <td>Male</td>\n",
       "      <td>0</td>\n",
       "      <td>0</td>\n",
       "      <td>40</td>\n",
       "      <td>United-States</td>\n",
       "      <td>&gt;50K</td>\n",
       "      <td>0</td>\n",
       "    </tr>\n",
       "    <tr>\n",
       "      <th>26</th>\n",
       "      <td>26</td>\n",
       "      <td>19</td>\n",
       "      <td>Private</td>\n",
       "      <td>168294</td>\n",
       "      <td>HS-grad</td>\n",
       "      <td>9</td>\n",
       "      <td>Never-married</td>\n",
       "      <td>Craft-repair</td>\n",
       "      <td>Own-child</td>\n",
       "      <td>White</td>\n",
       "      <td>Male</td>\n",
       "      <td>0</td>\n",
       "      <td>0</td>\n",
       "      <td>40</td>\n",
       "      <td>United-States</td>\n",
       "      <td>&lt;=50K</td>\n",
       "      <td>0</td>\n",
       "    </tr>\n",
       "    <tr>\n",
       "      <th>27</th>\n",
       "      <td>27</td>\n",
       "      <td>54</td>\n",
       "      <td>?</td>\n",
       "      <td>180211</td>\n",
       "      <td>Some-college</td>\n",
       "      <td>10</td>\n",
       "      <td>Married-civ-spouse</td>\n",
       "      <td>?</td>\n",
       "      <td>Husband</td>\n",
       "      <td>Asian-Pac-Islander</td>\n",
       "      <td>Male</td>\n",
       "      <td>0</td>\n",
       "      <td>0</td>\n",
       "      <td>60</td>\n",
       "      <td>South</td>\n",
       "      <td>&gt;50K</td>\n",
       "      <td>0</td>\n",
       "    </tr>\n",
       "    <tr>\n",
       "      <th>28</th>\n",
       "      <td>28</td>\n",
       "      <td>39</td>\n",
       "      <td>Private</td>\n",
       "      <td>367260</td>\n",
       "      <td>HS-grad</td>\n",
       "      <td>9</td>\n",
       "      <td>Divorced</td>\n",
       "      <td>Exec-managerial</td>\n",
       "      <td>Not-in-family</td>\n",
       "      <td>White</td>\n",
       "      <td>Male</td>\n",
       "      <td>0</td>\n",
       "      <td>0</td>\n",
       "      <td>80</td>\n",
       "      <td>United-States</td>\n",
       "      <td>&lt;=50K</td>\n",
       "      <td>0</td>\n",
       "    </tr>\n",
       "    <tr>\n",
       "      <th>29</th>\n",
       "      <td>29</td>\n",
       "      <td>49</td>\n",
       "      <td>Private</td>\n",
       "      <td>193366</td>\n",
       "      <td>HS-grad</td>\n",
       "      <td>9</td>\n",
       "      <td>Married-civ-spouse</td>\n",
       "      <td>Craft-repair</td>\n",
       "      <td>Husband</td>\n",
       "      <td>White</td>\n",
       "      <td>Male</td>\n",
       "      <td>0</td>\n",
       "      <td>0</td>\n",
       "      <td>40</td>\n",
       "      <td>United-States</td>\n",
       "      <td>&lt;=50K</td>\n",
       "      <td>0</td>\n",
       "    </tr>\n",
       "    <tr>\n",
       "      <th>30</th>\n",
       "      <td>30</td>\n",
       "      <td>23</td>\n",
       "      <td>Local-gov</td>\n",
       "      <td>190709</td>\n",
       "      <td>Assoc-acdm</td>\n",
       "      <td>12</td>\n",
       "      <td>Never-married</td>\n",
       "      <td>Protective-serv</td>\n",
       "      <td>Not-in-family</td>\n",
       "      <td>White</td>\n",
       "      <td>Male</td>\n",
       "      <td>0</td>\n",
       "      <td>0</td>\n",
       "      <td>52</td>\n",
       "      <td>United-States</td>\n",
       "      <td>&lt;=50K</td>\n",
       "      <td>0</td>\n",
       "    </tr>\n",
       "    <tr>\n",
       "      <th>31</th>\n",
       "      <td>31</td>\n",
       "      <td>20</td>\n",
       "      <td>Private</td>\n",
       "      <td>266015</td>\n",
       "      <td>Some-college</td>\n",
       "      <td>10</td>\n",
       "      <td>Never-married</td>\n",
       "      <td>Sales</td>\n",
       "      <td>Own-child</td>\n",
       "      <td>Black</td>\n",
       "      <td>Male</td>\n",
       "      <td>0</td>\n",
       "      <td>0</td>\n",
       "      <td>44</td>\n",
       "      <td>United-States</td>\n",
       "      <td>&lt;=50K</td>\n",
       "      <td>0</td>\n",
       "    </tr>\n",
       "    <tr>\n",
       "      <th>32</th>\n",
       "      <td>32</td>\n",
       "      <td>45</td>\n",
       "      <td>Private</td>\n",
       "      <td>386940</td>\n",
       "      <td>Bachelors</td>\n",
       "      <td>13</td>\n",
       "      <td>Divorced</td>\n",
       "      <td>Exec-managerial</td>\n",
       "      <td>Own-child</td>\n",
       "      <td>White</td>\n",
       "      <td>Male</td>\n",
       "      <td>0</td>\n",
       "      <td>1408</td>\n",
       "      <td>40</td>\n",
       "      <td>United-States</td>\n",
       "      <td>&lt;=50K</td>\n",
       "      <td>0</td>\n",
       "    </tr>\n",
       "    <tr>\n",
       "      <th>33</th>\n",
       "      <td>33</td>\n",
       "      <td>30</td>\n",
       "      <td>Federal-gov</td>\n",
       "      <td>59951</td>\n",
       "      <td>Some-college</td>\n",
       "      <td>10</td>\n",
       "      <td>Married-civ-spouse</td>\n",
       "      <td>Adm-clerical</td>\n",
       "      <td>Own-child</td>\n",
       "      <td>White</td>\n",
       "      <td>Male</td>\n",
       "      <td>0</td>\n",
       "      <td>0</td>\n",
       "      <td>40</td>\n",
       "      <td>United-States</td>\n",
       "      <td>&lt;=50K</td>\n",
       "      <td>0</td>\n",
       "    </tr>\n",
       "    <tr>\n",
       "      <th>34</th>\n",
       "      <td>34</td>\n",
       "      <td>22</td>\n",
       "      <td>State-gov</td>\n",
       "      <td>311512</td>\n",
       "      <td>Some-college</td>\n",
       "      <td>10</td>\n",
       "      <td>Married-civ-spouse</td>\n",
       "      <td>Other-service</td>\n",
       "      <td>Husband</td>\n",
       "      <td>Black</td>\n",
       "      <td>Male</td>\n",
       "      <td>0</td>\n",
       "      <td>0</td>\n",
       "      <td>15</td>\n",
       "      <td>United-States</td>\n",
       "      <td>&lt;=50K</td>\n",
       "      <td>0</td>\n",
       "    </tr>\n",
       "    <tr>\n",
       "      <th>35</th>\n",
       "      <td>35</td>\n",
       "      <td>48</td>\n",
       "      <td>Private</td>\n",
       "      <td>242406</td>\n",
       "      <td>11th</td>\n",
       "      <td>7</td>\n",
       "      <td>Never-married</td>\n",
       "      <td>Machine-op-inspct</td>\n",
       "      <td>Unmarried</td>\n",
       "      <td>White</td>\n",
       "      <td>Male</td>\n",
       "      <td>0</td>\n",
       "      <td>0</td>\n",
       "      <td>40</td>\n",
       "      <td>Puerto-Rico</td>\n",
       "      <td>&lt;=50K</td>\n",
       "      <td>0</td>\n",
       "    </tr>\n",
       "    <tr>\n",
       "      <th>36</th>\n",
       "      <td>36</td>\n",
       "      <td>21</td>\n",
       "      <td>Private</td>\n",
       "      <td>197200</td>\n",
       "      <td>Some-college</td>\n",
       "      <td>10</td>\n",
       "      <td>Never-married</td>\n",
       "      <td>Machine-op-inspct</td>\n",
       "      <td>Own-child</td>\n",
       "      <td>White</td>\n",
       "      <td>Male</td>\n",
       "      <td>0</td>\n",
       "      <td>0</td>\n",
       "      <td>40</td>\n",
       "      <td>United-States</td>\n",
       "      <td>&lt;=50K</td>\n",
       "      <td>0</td>\n",
       "    </tr>\n",
       "    <tr>\n",
       "      <th>37</th>\n",
       "      <td>37</td>\n",
       "      <td>19</td>\n",
       "      <td>Private</td>\n",
       "      <td>544091</td>\n",
       "      <td>HS-grad</td>\n",
       "      <td>9</td>\n",
       "      <td>Married-AF-spouse</td>\n",
       "      <td>Adm-clerical</td>\n",
       "      <td>Wife</td>\n",
       "      <td>White</td>\n",
       "      <td>Female</td>\n",
       "      <td>0</td>\n",
       "      <td>0</td>\n",
       "      <td>25</td>\n",
       "      <td>United-States</td>\n",
       "      <td>&lt;=50K</td>\n",
       "      <td>0</td>\n",
       "    </tr>\n",
       "    <tr>\n",
       "      <th>38</th>\n",
       "      <td>38</td>\n",
       "      <td>31</td>\n",
       "      <td>Private</td>\n",
       "      <td>84154</td>\n",
       "      <td>Some-college</td>\n",
       "      <td>10</td>\n",
       "      <td>Married-civ-spouse</td>\n",
       "      <td>Sales</td>\n",
       "      <td>Husband</td>\n",
       "      <td>White</td>\n",
       "      <td>Male</td>\n",
       "      <td>0</td>\n",
       "      <td>0</td>\n",
       "      <td>38</td>\n",
       "      <td>?</td>\n",
       "      <td>&gt;50K</td>\n",
       "      <td>0</td>\n",
       "    </tr>\n",
       "    <tr>\n",
       "      <th>39</th>\n",
       "      <td>39</td>\n",
       "      <td>48</td>\n",
       "      <td>Self-emp-not-inc</td>\n",
       "      <td>265477</td>\n",
       "      <td>Assoc-acdm</td>\n",
       "      <td>12</td>\n",
       "      <td>Married-civ-spouse</td>\n",
       "      <td>Prof-specialty</td>\n",
       "      <td>Husband</td>\n",
       "      <td>White</td>\n",
       "      <td>Male</td>\n",
       "      <td>0</td>\n",
       "      <td>0</td>\n",
       "      <td>40</td>\n",
       "      <td>United-States</td>\n",
       "      <td>&lt;=50K</td>\n",
       "      <td>0</td>\n",
       "    </tr>\n",
       "    <tr>\n",
       "      <th>40</th>\n",
       "      <td>40</td>\n",
       "      <td>31</td>\n",
       "      <td>Private</td>\n",
       "      <td>507875</td>\n",
       "      <td>9th</td>\n",
       "      <td>5</td>\n",
       "      <td>Married-civ-spouse</td>\n",
       "      <td>Machine-op-inspct</td>\n",
       "      <td>Husband</td>\n",
       "      <td>White</td>\n",
       "      <td>Male</td>\n",
       "      <td>0</td>\n",
       "      <td>0</td>\n",
       "      <td>43</td>\n",
       "      <td>United-States</td>\n",
       "      <td>&lt;=50K</td>\n",
       "      <td>0</td>\n",
       "    </tr>\n",
       "    <tr>\n",
       "      <th>41</th>\n",
       "      <td>41</td>\n",
       "      <td>53</td>\n",
       "      <td>Self-emp-not-inc</td>\n",
       "      <td>88506</td>\n",
       "      <td>Bachelors</td>\n",
       "      <td>13</td>\n",
       "      <td>Married-civ-spouse</td>\n",
       "      <td>Prof-specialty</td>\n",
       "      <td>Husband</td>\n",
       "      <td>White</td>\n",
       "      <td>Male</td>\n",
       "      <td>0</td>\n",
       "      <td>0</td>\n",
       "      <td>40</td>\n",
       "      <td>United-States</td>\n",
       "      <td>&lt;=50K</td>\n",
       "      <td>0</td>\n",
       "    </tr>\n",
       "    <tr>\n",
       "      <th>42</th>\n",
       "      <td>42</td>\n",
       "      <td>24</td>\n",
       "      <td>Private</td>\n",
       "      <td>172987</td>\n",
       "      <td>Bachelors</td>\n",
       "      <td>13</td>\n",
       "      <td>Married-civ-spouse</td>\n",
       "      <td>Tech-support</td>\n",
       "      <td>Husband</td>\n",
       "      <td>White</td>\n",
       "      <td>Male</td>\n",
       "      <td>0</td>\n",
       "      <td>0</td>\n",
       "      <td>50</td>\n",
       "      <td>United-States</td>\n",
       "      <td>&lt;=50K</td>\n",
       "      <td>0</td>\n",
       "    </tr>\n",
       "    <tr>\n",
       "      <th>43</th>\n",
       "      <td>43</td>\n",
       "      <td>49</td>\n",
       "      <td>Private</td>\n",
       "      <td>94638</td>\n",
       "      <td>HS-grad</td>\n",
       "      <td>9</td>\n",
       "      <td>Separated</td>\n",
       "      <td>Adm-clerical</td>\n",
       "      <td>Unmarried</td>\n",
       "      <td>White</td>\n",
       "      <td>Female</td>\n",
       "      <td>0</td>\n",
       "      <td>0</td>\n",
       "      <td>40</td>\n",
       "      <td>United-States</td>\n",
       "      <td>&lt;=50K</td>\n",
       "      <td>0</td>\n",
       "    </tr>\n",
       "    <tr>\n",
       "      <th>44</th>\n",
       "      <td>44</td>\n",
       "      <td>25</td>\n",
       "      <td>Private</td>\n",
       "      <td>289980</td>\n",
       "      <td>HS-grad</td>\n",
       "      <td>9</td>\n",
       "      <td>Never-married</td>\n",
       "      <td>Handlers-cleaners</td>\n",
       "      <td>Not-in-family</td>\n",
       "      <td>White</td>\n",
       "      <td>Male</td>\n",
       "      <td>0</td>\n",
       "      <td>0</td>\n",
       "      <td>35</td>\n",
       "      <td>United-States</td>\n",
       "      <td>&lt;=50K</td>\n",
       "      <td>0</td>\n",
       "    </tr>\n",
       "    <tr>\n",
       "      <th>45</th>\n",
       "      <td>45</td>\n",
       "      <td>57</td>\n",
       "      <td>Federal-gov</td>\n",
       "      <td>337895</td>\n",
       "      <td>Bachelors</td>\n",
       "      <td>13</td>\n",
       "      <td>Married-civ-spouse</td>\n",
       "      <td>Prof-specialty</td>\n",
       "      <td>Husband</td>\n",
       "      <td>Black</td>\n",
       "      <td>Male</td>\n",
       "      <td>0</td>\n",
       "      <td>0</td>\n",
       "      <td>40</td>\n",
       "      <td>United-States</td>\n",
       "      <td>&gt;50K</td>\n",
       "      <td>0</td>\n",
       "    </tr>\n",
       "    <tr>\n",
       "      <th>46</th>\n",
       "      <td>46</td>\n",
       "      <td>53</td>\n",
       "      <td>Private</td>\n",
       "      <td>144361</td>\n",
       "      <td>HS-grad</td>\n",
       "      <td>9</td>\n",
       "      <td>Married-civ-spouse</td>\n",
       "      <td>Machine-op-inspct</td>\n",
       "      <td>Husband</td>\n",
       "      <td>White</td>\n",
       "      <td>Male</td>\n",
       "      <td>0</td>\n",
       "      <td>0</td>\n",
       "      <td>38</td>\n",
       "      <td>United-States</td>\n",
       "      <td>&lt;=50K</td>\n",
       "      <td>0</td>\n",
       "    </tr>\n",
       "    <tr>\n",
       "      <th>47</th>\n",
       "      <td>47</td>\n",
       "      <td>44</td>\n",
       "      <td>Private</td>\n",
       "      <td>128354</td>\n",
       "      <td>Masters</td>\n",
       "      <td>14</td>\n",
       "      <td>Divorced</td>\n",
       "      <td>Exec-managerial</td>\n",
       "      <td>Unmarried</td>\n",
       "      <td>White</td>\n",
       "      <td>Female</td>\n",
       "      <td>0</td>\n",
       "      <td>0</td>\n",
       "      <td>40</td>\n",
       "      <td>United-States</td>\n",
       "      <td>&lt;=50K</td>\n",
       "      <td>0</td>\n",
       "    </tr>\n",
       "    <tr>\n",
       "      <th>48</th>\n",
       "      <td>48</td>\n",
       "      <td>41</td>\n",
       "      <td>State-gov</td>\n",
       "      <td>101603</td>\n",
       "      <td>Assoc-voc</td>\n",
       "      <td>11</td>\n",
       "      <td>Married-civ-spouse</td>\n",
       "      <td>Craft-repair</td>\n",
       "      <td>Husband</td>\n",
       "      <td>White</td>\n",
       "      <td>Male</td>\n",
       "      <td>0</td>\n",
       "      <td>0</td>\n",
       "      <td>40</td>\n",
       "      <td>United-States</td>\n",
       "      <td>&lt;=50K</td>\n",
       "      <td>0</td>\n",
       "    </tr>\n",
       "    <tr>\n",
       "      <th>49</th>\n",
       "      <td>49</td>\n",
       "      <td>29</td>\n",
       "      <td>Private</td>\n",
       "      <td>271466</td>\n",
       "      <td>Assoc-voc</td>\n",
       "      <td>11</td>\n",
       "      <td>Never-married</td>\n",
       "      <td>Prof-specialty</td>\n",
       "      <td>Not-in-family</td>\n",
       "      <td>White</td>\n",
       "      <td>Male</td>\n",
       "      <td>0</td>\n",
       "      <td>0</td>\n",
       "      <td>43</td>\n",
       "      <td>United-States</td>\n",
       "      <td>&lt;=50K</td>\n",
       "      <td>0</td>\n",
       "    </tr>\n",
       "  </tbody>\n",
       "</table>\n",
       "</div>"
      ],
      "text/plain": [
       "    Unnamed: 0  age          workclass  fnlwgt      education  education_num  \\\n",
       "0            0   39          State-gov   77516      Bachelors             13   \n",
       "1            1   50   Self-emp-not-inc   83311      Bachelors             13   \n",
       "2            2   38            Private  215646        HS-grad              9   \n",
       "3            3   53            Private  234721           11th              7   \n",
       "4            4   28            Private  338409      Bachelors             13   \n",
       "5            5   37            Private  284582        Masters             14   \n",
       "6            6   49            Private  160187            9th              5   \n",
       "7            7   52   Self-emp-not-inc  209642        HS-grad              9   \n",
       "8            8   31            Private   45781        Masters             14   \n",
       "9            9   42            Private  159449      Bachelors             13   \n",
       "10          10   37            Private  280464   Some-college             10   \n",
       "11          11   30          State-gov  141297      Bachelors             13   \n",
       "12          12   23            Private  122272      Bachelors             13   \n",
       "13          13   32            Private  205019     Assoc-acdm             12   \n",
       "14          14   40            Private  121772      Assoc-voc             11   \n",
       "15          15   34            Private  245487        7th-8th              4   \n",
       "16          16   25   Self-emp-not-inc  176756        HS-grad              9   \n",
       "17          17   32            Private  186824        HS-grad              9   \n",
       "18          18   38            Private   28887           11th              7   \n",
       "19          19   43   Self-emp-not-inc  292175        Masters             14   \n",
       "20          20   40            Private  193524      Doctorate             16   \n",
       "21          21   54            Private  302146        HS-grad              9   \n",
       "22          22   35        Federal-gov   76845            9th              5   \n",
       "23          23   43            Private  117037           11th              7   \n",
       "24          24   59            Private  109015        HS-grad              9   \n",
       "25          25   56          Local-gov  216851      Bachelors             13   \n",
       "26          26   19            Private  168294        HS-grad              9   \n",
       "27          27   54                  ?  180211   Some-college             10   \n",
       "28          28   39            Private  367260        HS-grad              9   \n",
       "29          29   49            Private  193366        HS-grad              9   \n",
       "30          30   23          Local-gov  190709     Assoc-acdm             12   \n",
       "31          31   20            Private  266015   Some-college             10   \n",
       "32          32   45            Private  386940      Bachelors             13   \n",
       "33          33   30        Federal-gov   59951   Some-college             10   \n",
       "34          34   22          State-gov  311512   Some-college             10   \n",
       "35          35   48            Private  242406           11th              7   \n",
       "36          36   21            Private  197200   Some-college             10   \n",
       "37          37   19            Private  544091        HS-grad              9   \n",
       "38          38   31            Private   84154   Some-college             10   \n",
       "39          39   48   Self-emp-not-inc  265477     Assoc-acdm             12   \n",
       "40          40   31            Private  507875            9th              5   \n",
       "41          41   53   Self-emp-not-inc   88506      Bachelors             13   \n",
       "42          42   24            Private  172987      Bachelors             13   \n",
       "43          43   49            Private   94638        HS-grad              9   \n",
       "44          44   25            Private  289980        HS-grad              9   \n",
       "45          45   57        Federal-gov  337895      Bachelors             13   \n",
       "46          46   53            Private  144361        HS-grad              9   \n",
       "47          47   44            Private  128354        Masters             14   \n",
       "48          48   41          State-gov  101603      Assoc-voc             11   \n",
       "49          49   29            Private  271466      Assoc-voc             11   \n",
       "\n",
       "            marital_status          occupation    relationship  \\\n",
       "0            Never-married        Adm-clerical   Not-in-family   \n",
       "1       Married-civ-spouse     Exec-managerial         Husband   \n",
       "2                 Divorced   Handlers-cleaners   Not-in-family   \n",
       "3       Married-civ-spouse   Handlers-cleaners         Husband   \n",
       "4       Married-civ-spouse      Prof-specialty            Wife   \n",
       "5       Married-civ-spouse     Exec-managerial            Wife   \n",
       "6    Married-spouse-absent       Other-service   Not-in-family   \n",
       "7       Married-civ-spouse     Exec-managerial         Husband   \n",
       "8            Never-married      Prof-specialty   Not-in-family   \n",
       "9       Married-civ-spouse     Exec-managerial         Husband   \n",
       "10      Married-civ-spouse     Exec-managerial         Husband   \n",
       "11      Married-civ-spouse      Prof-specialty         Husband   \n",
       "12           Never-married        Adm-clerical       Own-child   \n",
       "13           Never-married               Sales   Not-in-family   \n",
       "14      Married-civ-spouse        Craft-repair         Husband   \n",
       "15      Married-civ-spouse    Transport-moving         Husband   \n",
       "16           Never-married     Farming-fishing       Own-child   \n",
       "17           Never-married   Machine-op-inspct       Unmarried   \n",
       "18      Married-civ-spouse               Sales         Husband   \n",
       "19                Divorced     Exec-managerial       Unmarried   \n",
       "20      Married-civ-spouse      Prof-specialty         Husband   \n",
       "21               Separated       Other-service       Unmarried   \n",
       "22      Married-civ-spouse     Farming-fishing         Husband   \n",
       "23      Married-civ-spouse    Transport-moving         Husband   \n",
       "24                Divorced        Tech-support       Unmarried   \n",
       "25      Married-civ-spouse        Tech-support         Husband   \n",
       "26           Never-married        Craft-repair       Own-child   \n",
       "27      Married-civ-spouse                   ?         Husband   \n",
       "28                Divorced     Exec-managerial   Not-in-family   \n",
       "29      Married-civ-spouse        Craft-repair         Husband   \n",
       "30           Never-married     Protective-serv   Not-in-family   \n",
       "31           Never-married               Sales       Own-child   \n",
       "32                Divorced     Exec-managerial       Own-child   \n",
       "33      Married-civ-spouse        Adm-clerical       Own-child   \n",
       "34      Married-civ-spouse       Other-service         Husband   \n",
       "35           Never-married   Machine-op-inspct       Unmarried   \n",
       "36           Never-married   Machine-op-inspct       Own-child   \n",
       "37       Married-AF-spouse        Adm-clerical            Wife   \n",
       "38      Married-civ-spouse               Sales         Husband   \n",
       "39      Married-civ-spouse      Prof-specialty         Husband   \n",
       "40      Married-civ-spouse   Machine-op-inspct         Husband   \n",
       "41      Married-civ-spouse      Prof-specialty         Husband   \n",
       "42      Married-civ-spouse        Tech-support         Husband   \n",
       "43               Separated        Adm-clerical       Unmarried   \n",
       "44           Never-married   Handlers-cleaners   Not-in-family   \n",
       "45      Married-civ-spouse      Prof-specialty         Husband   \n",
       "46      Married-civ-spouse   Machine-op-inspct         Husband   \n",
       "47                Divorced     Exec-managerial       Unmarried   \n",
       "48      Married-civ-spouse        Craft-repair         Husband   \n",
       "49           Never-married      Prof-specialty   Not-in-family   \n",
       "\n",
       "                   race      sex  capital_gain  capital_loss  hours_per_week  \\\n",
       "0                 White     Male          2174             0              40   \n",
       "1                 White     Male             0             0              13   \n",
       "2                 White     Male             0             0              40   \n",
       "3                 Black     Male             0             0              40   \n",
       "4                 Black   Female             0             0              40   \n",
       "5                 White   Female             0             0              40   \n",
       "6                 Black   Female             0             0              16   \n",
       "7                 White     Male             0             0              45   \n",
       "8                 White   Female         14084             0              50   \n",
       "9                 White     Male          5178             0              40   \n",
       "10                Black     Male             0             0              80   \n",
       "11   Asian-Pac-Islander     Male             0             0              40   \n",
       "12                White   Female             0             0              30   \n",
       "13                Black     Male             0             0              50   \n",
       "14   Asian-Pac-Islander     Male             0             0              40   \n",
       "15   Amer-Indian-Eskimo     Male             0             0              45   \n",
       "16                White     Male             0             0              35   \n",
       "17                White     Male             0             0              40   \n",
       "18                White     Male             0             0              50   \n",
       "19                White   Female             0             0              45   \n",
       "20                White     Male             0             0              60   \n",
       "21                Black   Female             0             0              20   \n",
       "22                Black     Male             0             0              40   \n",
       "23                White     Male             0          2042              40   \n",
       "24                White   Female             0             0              40   \n",
       "25                White     Male             0             0              40   \n",
       "26                White     Male             0             0              40   \n",
       "27   Asian-Pac-Islander     Male             0             0              60   \n",
       "28                White     Male             0             0              80   \n",
       "29                White     Male             0             0              40   \n",
       "30                White     Male             0             0              52   \n",
       "31                Black     Male             0             0              44   \n",
       "32                White     Male             0          1408              40   \n",
       "33                White     Male             0             0              40   \n",
       "34                Black     Male             0             0              15   \n",
       "35                White     Male             0             0              40   \n",
       "36                White     Male             0             0              40   \n",
       "37                White   Female             0             0              25   \n",
       "38                White     Male             0             0              38   \n",
       "39                White     Male             0             0              40   \n",
       "40                White     Male             0             0              43   \n",
       "41                White     Male             0             0              40   \n",
       "42                White     Male             0             0              50   \n",
       "43                White   Female             0             0              40   \n",
       "44                White     Male             0             0              35   \n",
       "45                Black     Male             0             0              40   \n",
       "46                White     Male             0             0              38   \n",
       "47                White   Female             0             0              40   \n",
       "48                White     Male             0             0              40   \n",
       "49                White     Male             0             0              43   \n",
       "\n",
       "    native_country  income  income_lev  \n",
       "0    United-States   <=50K           0  \n",
       "1    United-States   <=50K           0  \n",
       "2    United-States   <=50K           0  \n",
       "3    United-States   <=50K           0  \n",
       "4             Cuba   <=50K           0  \n",
       "5    United-States   <=50K           0  \n",
       "6          Jamaica   <=50K           0  \n",
       "7    United-States    >50K           0  \n",
       "8    United-States    >50K           0  \n",
       "9    United-States    >50K           0  \n",
       "10   United-States    >50K           0  \n",
       "11           India    >50K           0  \n",
       "12   United-States   <=50K           0  \n",
       "13   United-States   <=50K           0  \n",
       "14               ?    >50K           0  \n",
       "15          Mexico   <=50K           0  \n",
       "16   United-States   <=50K           0  \n",
       "17   United-States   <=50K           0  \n",
       "18   United-States   <=50K           0  \n",
       "19   United-States    >50K           0  \n",
       "20   United-States    >50K           0  \n",
       "21   United-States   <=50K           0  \n",
       "22   United-States   <=50K           0  \n",
       "23   United-States   <=50K           0  \n",
       "24   United-States   <=50K           0  \n",
       "25   United-States    >50K           0  \n",
       "26   United-States   <=50K           0  \n",
       "27           South    >50K           0  \n",
       "28   United-States   <=50K           0  \n",
       "29   United-States   <=50K           0  \n",
       "30   United-States   <=50K           0  \n",
       "31   United-States   <=50K           0  \n",
       "32   United-States   <=50K           0  \n",
       "33   United-States   <=50K           0  \n",
       "34   United-States   <=50K           0  \n",
       "35     Puerto-Rico   <=50K           0  \n",
       "36   United-States   <=50K           0  \n",
       "37   United-States   <=50K           0  \n",
       "38               ?    >50K           0  \n",
       "39   United-States   <=50K           0  \n",
       "40   United-States   <=50K           0  \n",
       "41   United-States   <=50K           0  \n",
       "42   United-States   <=50K           0  \n",
       "43   United-States   <=50K           0  \n",
       "44   United-States   <=50K           0  \n",
       "45   United-States    >50K           0  \n",
       "46   United-States   <=50K           0  \n",
       "47   United-States   <=50K           0  \n",
       "48   United-States   <=50K           0  \n",
       "49   United-States   <=50K           0  "
      ]
     },
     "execution_count": 61,
     "metadata": {},
     "output_type": "execute_result"
    }
   ],
   "source": [
    "df_census_income.head(50)"
   ]
  },
  {
   "cell_type": "code",
   "execution_count": 62,
   "id": "03564ffe",
   "metadata": {},
   "outputs": [],
   "source": [
    "# TO DO: Create function to bin 'education'/'education_num' into 'education_cat' column.\n",
    "\n",
    "# df_census_income[\"education_cat\"].apply(get_)"
   ]
  }
 ],
 "metadata": {
  "kernelspec": {
   "display_name": "mlenv",
   "language": "python",
   "name": "mlenv"
  },
  "language_info": {
   "codemirror_mode": {
    "name": "ipython",
    "version": 3
   },
   "file_extension": ".py",
   "mimetype": "text/x-python",
   "name": "python",
   "nbconvert_exporter": "python",
   "pygments_lexer": "ipython3",
   "version": "3.7.13"
  }
 },
 "nbformat": 4,
 "nbformat_minor": 5
}
